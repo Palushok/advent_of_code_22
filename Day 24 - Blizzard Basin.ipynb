{
 "cells": [
  {
   "cell_type": "code",
   "execution_count": 1,
   "id": "3206872f",
   "metadata": {},
   "outputs": [],
   "source": [
    "import numpy as np\n",
    "from copy import deepcopy\n",
    "\n",
    "with open('tasks/24.txt', 'r') as file:\n",
    "    data = file.read().splitlines()"
   ]
  },
  {
   "cell_type": "code",
   "execution_count": 2,
   "id": "f92161da",
   "metadata": {},
   "outputs": [],
   "source": [
    "def replace(x):\n",
    "    if x == '#':\n",
    "        return -1\n",
    "    if x == '.':\n",
    "        return 0\n",
    "    if x == '>':\n",
    "        return 1\n",
    "    if x == '<':\n",
    "        return 10\n",
    "    if x == 'v':\n",
    "        return 100\n",
    "    if x == '^':\n",
    "        return 1000"
   ]
  },
  {
   "cell_type": "code",
   "execution_count": 3,
   "id": "bc9f29b6",
   "metadata": {},
   "outputs": [],
   "source": [
    "data = [list(x) for x in data]\n",
    "data = [[replace(x) for x in line] for line in data]\n",
    "data = np.array(data)\n",
    "H, W = data.shape"
   ]
  },
  {
   "cell_type": "code",
   "execution_count": 4,
   "id": "0b9675d5",
   "metadata": {},
   "outputs": [],
   "source": [
    "def move_wind(position):\n",
    "    new_position = deepcopy(position)\n",
    "    all_winds = np.where(position > 0)\n",
    "    for y, x in zip(*all_winds):\n",
    "        value = position[y, x]\n",
    "        if value % 1000 % 100 % 10:\n",
    "            new_y = y\n",
    "            new_x = 1 + x*(x + 1 != W - 1)\n",
    "            new_position[y, x] -= 1\n",
    "            new_position[new_y, new_x] += 1\n",
    "\n",
    "        if value % 1000 % 100 // 10:\n",
    "            new_y = y\n",
    "            if x - 1 == 0:\n",
    "                new_x = W - 2\n",
    "            else:\n",
    "                new_x = x - 1\n",
    "            new_position[y, x] -= 10\n",
    "            new_position[new_y, new_x] += 10\n",
    "        if value % 1000 // 100:\n",
    "            \n",
    "            new_x = x\n",
    "            new_y = 1 + y*(y + 1 != H - 1)\n",
    "            new_position[y, x] -= 100\n",
    "            new_position[new_y, new_x] += 100\n",
    "        \n",
    "        if value // 1000:\n",
    "            new_x = x\n",
    "            if y - 1 == 0:\n",
    "                new_y = H - 2\n",
    "            else:\n",
    "                new_y = y - 1\n",
    "            new_position[y, x] -= 1000\n",
    "            new_position[new_y, new_x] += 1000\n",
    "    return new_position"
   ]
  },
  {
   "cell_type": "code",
   "execution_count": 5,
   "id": "15e44b52",
   "metadata": {},
   "outputs": [],
   "source": [
    "def find_possible_possitions(possition, current_locations):\n",
    "    new_locations = set()\n",
    "    for y, x in current_locations:\n",
    "        for y_, x_ in ((y-1, x), (y+1, x), (y, x+1), (y, x-1), (y, x)):\n",
    "            try:\n",
    "                if not possition[y_, x_]:\n",
    "                    new_locations.add((y_, x_))\n",
    "            except:\n",
    "                pass\n",
    "    return new_locations\n",
    "            "
   ]
  },
  {
   "cell_type": "code",
   "execution_count": 6,
   "id": "3ff63d96",
   "metadata": {},
   "outputs": [],
   "source": [
    "current_locations = {(0, 1)}\n",
    "position = deepcopy(data)\n",
    "steps = 0 \n",
    "while ((H-1, W-2) not in current_locations):\n",
    "    position = move_wind(position)\n",
    "    current_locations = find_possible_possitions(position, current_locations)\n",
    "    steps += 1"
   ]
  },
  {
   "cell_type": "code",
   "execution_count": 7,
   "id": "34f44cc2",
   "metadata": {},
   "outputs": [
    {
     "data": {
      "text/plain": [
       "230"
      ]
     },
     "execution_count": 7,
     "metadata": {},
     "output_type": "execute_result"
    }
   ],
   "source": [
    "steps"
   ]
  },
  {
   "cell_type": "code",
   "execution_count": 8,
   "id": "d45d2d34",
   "metadata": {},
   "outputs": [],
   "source": [
    "current_locations = {(H-1, W-2)}\n",
    "while ((0, 1) not in current_locations):\n",
    "    position = move_wind(position)\n",
    "    current_locations = find_possible_possitions(position, current_locations)\n",
    "    steps += 1"
   ]
  },
  {
   "cell_type": "code",
   "execution_count": 9,
   "id": "9f4fe60c",
   "metadata": {},
   "outputs": [],
   "source": [
    "current_locations = {(0, 1)}\n",
    "while ((H-1, W-2) not in current_locations):\n",
    "    position = move_wind(position)\n",
    "    current_locations = find_possible_possitions(position, current_locations)\n",
    "    steps += 1"
   ]
  },
  {
   "cell_type": "code",
   "execution_count": 10,
   "id": "7f6b7d40",
   "metadata": {},
   "outputs": [
    {
     "data": {
      "text/plain": [
       "713"
      ]
     },
     "execution_count": 10,
     "metadata": {},
     "output_type": "execute_result"
    }
   ],
   "source": [
    "steps"
   ]
  }
 ],
 "metadata": {
  "kernelspec": {
   "display_name": "Python 3 (ipykernel)",
   "language": "python",
   "name": "python3"
  },
  "language_info": {
   "codemirror_mode": {
    "name": "ipython",
    "version": 3
   },
   "file_extension": ".py",
   "mimetype": "text/x-python",
   "name": "python",
   "nbconvert_exporter": "python",
   "pygments_lexer": "ipython3",
   "version": "3.9.16"
  }
 },
 "nbformat": 4,
 "nbformat_minor": 5
}
