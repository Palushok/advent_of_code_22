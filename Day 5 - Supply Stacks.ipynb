{
 "cells": [
  {
   "cell_type": "code",
   "execution_count": 1,
   "id": "364872ce",
   "metadata": {},
   "outputs": [],
   "source": [
    "from copy import deepcopy"
   ]
  },
  {
   "cell_type": "code",
   "execution_count": 2,
   "id": "195d9984",
   "metadata": {},
   "outputs": [],
   "source": [
    "with open('tasks/5.txt', 'r') as f:\n",
    "    data = f.read().splitlines()"
   ]
  },
  {
   "cell_type": "code",
   "execution_count": 3,
   "id": "f84af5d8",
   "metadata": {},
   "outputs": [],
   "source": [
    "blank = data.index('')\n",
    "crates = data[:blank]\n",
    "moves = data[blank + 1:]"
   ]
  },
  {
   "cell_type": "code",
   "execution_count": 4,
   "id": "7c2a3db8",
   "metadata": {},
   "outputs": [],
   "source": [
    "num_of_columns = int(crates[-1].split()[-1])"
   ]
  },
  {
   "cell_type": "code",
   "execution_count": 5,
   "id": "c7a92588",
   "metadata": {},
   "outputs": [],
   "source": [
    "columns = [[] for _ in range(1, num_of_columns + 1)]"
   ]
  },
  {
   "cell_type": "code",
   "execution_count": 6,
   "id": "72bea024",
   "metadata": {},
   "outputs": [],
   "source": [
    "for line in crates[::-1][1:]:\n",
    "    for i in range(num_of_columns):\n",
    "        symbol = line[1+4*i]\n",
    "        if symbol != ' ':\n",
    "            columns[i].append(symbol)"
   ]
  },
  {
   "cell_type": "code",
   "execution_count": 7,
   "id": "5fa3ca81",
   "metadata": {},
   "outputs": [],
   "source": [
    "columns_2 = deepcopy(columns)"
   ]
  },
  {
   "cell_type": "code",
   "execution_count": 8,
   "id": "f7336214",
   "metadata": {},
   "outputs": [],
   "source": [
    "def move_ctate(instruction, columns_, multiple=False):\n",
    "    order = 1 if multiple else -1\n",
    "    _, count, _, from_, _, to_ = instruction.split()\n",
    "    count, from_, to_ = int(count), int(from_) - 1, int(to_) - 1\n",
    "    taken = columns_[from_][-count:][::order]\n",
    "    del(columns_[from_][-count:])\n",
    "    columns_[to_].extend(taken)"
   ]
  },
  {
   "cell_type": "code",
   "execution_count": 9,
   "id": "c63028a8",
   "metadata": {},
   "outputs": [
    {
     "data": {
      "text/plain": [
       "'CFFHVVHNC'"
      ]
     },
     "execution_count": 9,
     "metadata": {},
     "output_type": "execute_result"
    }
   ],
   "source": [
    "for move in moves:\n",
    "    move_ctate(move, columns)\n",
    "\n",
    "''.join([x[-1] for x in columns])"
   ]
  },
  {
   "cell_type": "code",
   "execution_count": 10,
   "id": "eb274071",
   "metadata": {},
   "outputs": [
    {
     "data": {
      "text/plain": [
       "'FSZWBPTBG'"
      ]
     },
     "execution_count": 10,
     "metadata": {},
     "output_type": "execute_result"
    }
   ],
   "source": [
    "for move in moves:\n",
    "    move_ctate(move, columns_2, multiple=True)\n",
    "\n",
    "''.join([x[-1] for x in columns_2])"
   ]
  }
 ],
 "metadata": {
  "kernelspec": {
   "display_name": "Python 3 (ipykernel)",
   "language": "python",
   "name": "python3"
  },
  "language_info": {
   "codemirror_mode": {
    "name": "ipython",
    "version": 3
   },
   "file_extension": ".py",
   "mimetype": "text/x-python",
   "name": "python",
   "nbconvert_exporter": "python",
   "pygments_lexer": "ipython3",
   "version": "3.8.5"
  }
 },
 "nbformat": 4,
 "nbformat_minor": 5
}
