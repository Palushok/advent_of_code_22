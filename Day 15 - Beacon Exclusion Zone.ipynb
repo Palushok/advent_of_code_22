{
 "cells": [
  {
   "cell_type": "code",
   "execution_count": 1,
   "id": "84730257",
   "metadata": {},
   "outputs": [],
   "source": [
    "import numpy as np\n",
    "import matplotlib.pyplot as plt\n",
    "from time import time\n",
    "\n",
    "with open('tasks/15.txt', 'r') as f:\n",
    "    data = f.read().split('\\n')"
   ]
  },
  {
   "cell_type": "code",
   "execution_count": 2,
   "id": "d7f34ca5",
   "metadata": {},
   "outputs": [],
   "source": [
    "max_coords = 4_000_000"
   ]
  },
  {
   "cell_type": "code",
   "execution_count": 3,
   "id": "4cc87b37",
   "metadata": {},
   "outputs": [],
   "source": [
    "def find_segments(target_y):\n",
    "    sensors = []\n",
    "    beacons = []\n",
    "    for line in data:\n",
    "        line = line.split()\n",
    "        sx, sy, bx, by = line[2][:-1], line[3][:-1], line[8][:-1], line[9]\n",
    "        sx, sy, bx, by = [int(x.split('=')[1]) for x in (sx, sy, bx, by)]\n",
    "        sensors.append((sx, sy))\n",
    "        beacons.append((bx, by))\n",
    "\n",
    "    bys = [x[1] for x in beacons]\n",
    "    sys = [x[1] for x in sensors]\n",
    "\n",
    "    intersections = []\n",
    "\n",
    "    for s, b in zip(sensors, beacons):\n",
    "        w = abs(s[0] - b[0])\n",
    "        h = abs(s[1] - b[1])\n",
    "        h_to_target = abs(s[1] - target_y)\n",
    "        dist = w + h\n",
    "\n",
    "        if dist > h_to_target:\n",
    "            new_inter = (s[0] - abs((dist - h_to_target)), s[0] + abs((dist - h_to_target)))\n",
    "            intersections.append(new_inter)\n",
    "    return intersections"
   ]
  },
  {
   "cell_type": "code",
   "execution_count": 4,
   "id": "99eac317",
   "metadata": {},
   "outputs": [],
   "source": [
    "def find_len_segments(segments):\n",
    "    total = 0\n",
    "    dots = []\n",
    "    for seg in segments:\n",
    "        dots.append((seg[0], 0))\n",
    "        dots.append((seg[1], 1))\n",
    "    dots = sorted(dots, key=lambda x: (x[0], x[1]))\n",
    "    counter_inters = 0\n",
    "    for i in range(0, len(dots)):\n",
    "        if i and counter_inters:\n",
    "            total += dots[i][0] - dots[i-1][0]\n",
    "        if dots[i][1] == 0:\n",
    "            counter_inters += 1\n",
    "        else:\n",
    "            counter_inters -= 1\n",
    "    return total"
   ]
  },
  {
   "cell_type": "code",
   "execution_count": 5,
   "id": "2ba39c4d",
   "metadata": {},
   "outputs": [
    {
     "data": {
      "text/plain": [
       "4883971"
      ]
     },
     "execution_count": 5,
     "metadata": {},
     "output_type": "execute_result"
    }
   ],
   "source": [
    "find_len_segments(find_segments(2000000))"
   ]
  },
  {
   "cell_type": "code",
   "execution_count": 6,
   "id": "f27be0fc",
   "metadata": {},
   "outputs": [
    {
     "name": "stdout",
     "output_type": "stream",
     "text": [
      "12691026767556\n"
     ]
    }
   ],
   "source": [
    "for i in range(max_coords):\n",
    "    segments = [(max(0, s[0]), min(max_coords, s[1])) for s in find_segments(i)]\n",
    "    if find_len_segments(segments) != max_coords:\n",
    "        break\n",
    "        \n",
    "all_numbers = set(j for j in range(max_coords))\n",
    "for seg in segments:\n",
    "    for k in range(seg[0], seg[1]+1):\n",
    "        all_numbers.discard(k)\n",
    "    \n",
    "print(4_000_000*all_numbers.pop()+i)"
   ]
  }
 ],
 "metadata": {
  "kernelspec": {
   "display_name": "Python 3 (ipykernel)",
   "language": "python",
   "name": "python3"
  },
  "language_info": {
   "codemirror_mode": {
    "name": "ipython",
    "version": 3
   },
   "file_extension": ".py",
   "mimetype": "text/x-python",
   "name": "python",
   "nbconvert_exporter": "python",
   "pygments_lexer": "ipython3",
   "version": "3.9.16"
  }
 },
 "nbformat": 4,
 "nbformat_minor": 5
}
