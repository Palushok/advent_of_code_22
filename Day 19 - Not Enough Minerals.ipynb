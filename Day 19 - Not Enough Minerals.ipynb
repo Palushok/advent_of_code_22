{
 "cells": [
  {
   "cell_type": "code",
   "execution_count": 5,
   "id": "a032a7a3",
   "metadata": {},
   "outputs": [],
   "source": [
    "with open('tasks/19_test.txt', 'r') as f:\n",
    "    data = f.read().splitlines()"
   ]
  },
  {
   "cell_type": "code",
   "execution_count": 6,
   "id": "e1a0ad08",
   "metadata": {},
   "outputs": [
    {
     "data": {
      "text/plain": [
       "['Blueprint 1: Each ore robot costs 4 ore. Each clay robot costs 2 ore. Each obsidian robot costs 3 ore and 14 clay. Each geode robot costs 2 ore and 7 obsidian.',\n",
       " 'Blueprint 2: Each ore robot costs 2 ore. Each clay robot costs 3 ore. Each obsidian robot costs 3 ore and 8 clay. Each geode robot costs 3 ore and 12 obsidian.']"
      ]
     },
     "execution_count": 6,
     "metadata": {},
     "output_type": "execute_result"
    }
   ],
   "source": [
    "data"
   ]
  },
  {
   "cell_type": "code",
   "execution_count": null,
   "id": "1d953ffd",
   "metadata": {},
   "outputs": [],
   "source": [
    "class Factory:\n",
    "    def __init__(self, ore, caly, obsidian, geode):\n",
    "        self.ore = 1\n",
    "        self.clay = 0\n",
    "        self.obsidian = 0\n",
    "        self.goede = 0"
   ]
  }
 ],
 "metadata": {
  "kernelspec": {
   "display_name": "Python 3 (ipykernel)",
   "language": "python",
   "name": "python3"
  },
  "language_info": {
   "codemirror_mode": {
    "name": "ipython",
    "version": 3
   },
   "file_extension": ".py",
   "mimetype": "text/x-python",
   "name": "python",
   "nbconvert_exporter": "python",
   "pygments_lexer": "ipython3",
   "version": "3.9.16"
  }
 },
 "nbformat": 4,
 "nbformat_minor": 5
}
