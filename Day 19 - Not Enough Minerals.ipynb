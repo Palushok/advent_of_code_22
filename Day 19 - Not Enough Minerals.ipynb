{
 "cells": [
  {
   "cell_type": "code",
   "execution_count": 38,
   "id": "76623713",
   "metadata": {},
   "outputs": [],
   "source": [
    "from time import time\n",
    "import numpy as np\n",
    "with open('19.txt', 'r') as f:\n",
    "    data = f.read().splitlines()"
   ]
  },
  {
   "cell_type": "code",
   "execution_count": 39,
   "id": "3b63b2a0",
   "metadata": {},
   "outputs": [],
   "source": [
    "prices = []\n",
    "for line in data:\n",
    "    line = [int(x) for x in line.replace(':', '.').split() if x.isdigit()]\n",
    "    prices.append(line)\n",
    "\n",
    "resources = {\n",
    "    'ore': 0,\n",
    "    'clay': 0,\n",
    "    'obsidian': 0,\n",
    "    'geode': 0\n",
    "}\n",
    "\n",
    "robots = {\n",
    "    'ore': 1,\n",
    "    'clay': 0,\n",
    "    'obsidian': 0,\n",
    "    'geode': 0,\n",
    "}"
   ]
  },
  {
   "cell_type": "code",
   "execution_count": 33,
   "id": "70f8ae92",
   "metadata": {},
   "outputs": [],
   "source": [
    "from copy import deepcopy\n",
    "\n",
    "\n",
    "class Factory:\n",
    "    def __init__(self, prices):\n",
    "        self.prices = prices\n",
    "        self.max_ore = max(prices[0], prices[1], prices[2], prices[4])\n",
    "        self.max_clay = prices[3]\n",
    "        self.max_obsidian = prices[5]\n",
    "        \n",
    "    def find_possible_item(self, recources, robots, time):\n",
    "        possible_items = []\n",
    "        \n",
    "        ore = recources['ore']\n",
    "        obsidian = recources['obsidian']\n",
    "        clay = recources['clay']\n",
    "        \n",
    "        robots_ore = robots['ore']\n",
    "        robots_clay = robots['clay']\n",
    "        robots_obsidian = robots['obsidian']\n",
    "        \n",
    "        if (self.prices[4] <= ore) and (self.prices[5] <= obsidian):\n",
    "            possible_items.append('geode')\n",
    "        if (self.prices[0] <= ore) and (robots_ore * time + ore < self.max_ore * time):\n",
    "            possible_items.append('ore')\n",
    "        if (self.prices[1] <= ore) and (robots_clay * time + clay < self.max_clay * time):\n",
    "            possible_items.append('clay')\n",
    "        \n",
    "        if ((self.prices[2] <= ore) and \\\n",
    "            (self.prices[3] <= clay) and \\\n",
    "            (robots_obsidian * time + obsidian < time * self.max_obsidian)):\n",
    "            possible_items.append('obsidian')\n",
    "        \n",
    "        \n",
    "        possible_items.append('skip')\n",
    "        return possible_items\n",
    "\n",
    "    def buy_robot(self, resources, robots, robot):\n",
    "        new_resources = deepcopy(resources)\n",
    "        new_robots = deepcopy(robots)\n",
    "        if robot != 'skip':\n",
    "            new_robots[robot] += 1\n",
    "        if robot == 'ore':\n",
    "            new_resources['ore'] -= self.prices[0]\n",
    "            return new_resources, new_robots\n",
    "        if robot == 'clay':\n",
    "            new_resources['ore'] -= self.prices[1]\n",
    "            return new_resources, new_robots\n",
    "        if robot == 'obsidian':\n",
    "            new_resources['ore'] -= self.prices[2]\n",
    "            new_resources['clay'] -= self.prices[3]\n",
    "            return new_resources, new_robots\n",
    "        if robot == 'geode':\n",
    "            new_resources['ore'] -= self.prices[4]\n",
    "            new_resources['obsidian'] -= self.prices[5]\n",
    "            return new_resources, new_robots\n",
    "        return new_resources, new_robots\n",
    "\n",
    "    def find_max_geo(self, time, robots, resources, max_geode):\n",
    "#         print(time, robots, resources, max_geode)\n",
    "        if time == 0:\n",
    "            return resources['geode']\n",
    "        geode = resources['geode']\n",
    "        \n",
    "        \n",
    "        \n",
    "        if geode + np.sum(robots['geode'] +  np.arange(time)) <= max_geode: # geode + time*(time+1) + robots['geode'] but time -= 1 before.\n",
    "            return 0\n",
    "        time -=1\n",
    "        \n",
    "        \n",
    "        if robots['ore'] >= self.prices[4] and robots['obsidian'] >= self.prices[5]:\n",
    "            return geode + np.sum(robots['geode'] +  np.arange(time))\n",
    "        else:\n",
    "            for act in self.find_possible_item(resources, robots, time):\n",
    "                new_resources, new_robots = self.buy_robot(resources, robots, act)\n",
    "                for k, v in robots.items():\n",
    "                    new_resources[k] += v\n",
    "                max_geode = max(max_geode, self.find_max_geo(time, new_robots, new_resources, max_geode))\n",
    "            return max_geode\n",
    "        return -1"
   ]
  },
  {
   "cell_type": "code",
   "execution_count": 47,
   "id": "08cc34e5",
   "metadata": {},
   "outputs": [
    {
     "name": "stdout",
     "output_type": "stream",
     "text": [
      "2 1\n",
      "3 2\n",
      "4 6\n",
      "5 0\n",
      "6 13\n",
      "7 6\n",
      "8 3\n",
      "9 1\n",
      "10 2\n",
      "11 7\n",
      "12 0\n",
      "13 2\n",
      "14 0\n",
      "15 1\n",
      "16 1\n",
      "17 2\n",
      "18 0\n",
      "19 0\n",
      "20 0\n",
      "21 0\n",
      "22 0\n",
      "23 6\n",
      "24 3\n",
      "25 1\n",
      "26 3\n",
      "27 1\n",
      "28 1\n",
      "29 5\n",
      "30 4\n"
     ]
    }
   ],
   "source": [
    "results = []\n",
    "for i, price in enumerate(prices):\n",
    "    f1 = Factory(price)\n",
    "    max_geo = f1.find_max_geo(24, robots, resources, 0)\n",
    "    print(i+1, max_geo)\n",
    "    results.append((i+1, max_geo))"
   ]
  },
  {
   "cell_type": "code",
   "execution_count": 53,
   "id": "f5fdbb92",
   "metadata": {},
   "outputs": [
    {
     "name": "stdout",
     "output_type": "stream",
     "text": [
      "1 32\n",
      "2 21\n",
      "3 28\n"
     ]
    }
   ],
   "source": [
    "results_2 = []\n",
    "for i, price in enumerate(prices[:3]):\n",
    "    f1 = Factory(price)\n",
    "    max_geo = f1.find_max_geo(32, robots, resources, 0)\n",
    "    print(i+1, max_geo)\n",
    "    results_2.append((i+1, max_geo))"
   ]
  },
  {
   "cell_type": "code",
   "execution_count": 55,
   "id": "49c54906",
   "metadata": {},
   "outputs": [
    {
     "data": {
      "text/plain": [
       "18816"
      ]
     },
     "execution_count": 55,
     "metadata": {},
     "output_type": "execute_result"
    }
   ],
   "source": [
    "np.prod([x[1] for x in results_2])"
   ]
  },
  {
   "cell_type": "code",
   "execution_count": null,
   "id": "bc823b35",
   "metadata": {},
   "outputs": [],
   "source": []
  }
 ],
 "metadata": {
  "kernelspec": {
   "display_name": "Python 3 (ipykernel)",
   "language": "python",
   "name": "python3"
  },
  "language_info": {
   "codemirror_mode": {
    "name": "ipython",
    "version": 3
   },
   "file_extension": ".py",
   "mimetype": "text/x-python",
   "name": "python",
   "nbconvert_exporter": "python",
   "pygments_lexer": "ipython3",
   "version": "3.8.5"
  }
 },
 "nbformat": 4,
 "nbformat_minor": 5
}
