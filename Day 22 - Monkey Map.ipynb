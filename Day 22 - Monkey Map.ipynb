{
 "cells": [
  {
   "cell_type": "code",
   "execution_count": 1,
   "id": "3d8afd85",
   "metadata": {},
   "outputs": [],
   "source": [
    "import numpy as np\n",
    "\n",
    "with open('tasks/22.txt', 'r') as file:\n",
    "    data = file.read().splitlines()"
   ]
  },
  {
   "cell_type": "code",
   "execution_count": 2,
   "id": "619270a3",
   "metadata": {},
   "outputs": [],
   "source": [
    "plan = data[-1]\n",
    "mapa =  data[:-2]\n",
    "max_len = max([len(x) for x in mapa])\n",
    "mapa = [x + ' '*(max_len-len(x)) for x in mapa]\n",
    "mapa = np.array([list(x) for x in mapa])"
   ]
  },
  {
   "cell_type": "code",
   "execution_count": 3,
   "id": "98064244",
   "metadata": {},
   "outputs": [],
   "source": [
    "first_x = data[0].index('.')\n",
    "first_y = 0"
   ]
  },
  {
   "cell_type": "code",
   "execution_count": 4,
   "id": "993df9ca",
   "metadata": {},
   "outputs": [],
   "source": [
    "direction = 0 # 0-R, 1-D, 2-L, 3-U\n",
    "dir_map ={\n",
    "    'R': 1,\n",
    "    'L': -1\n",
    "}\n",
    "\n",
    "move_map = {\n",
    "    0: [0, 1],\n",
    "    1: [1, 0],\n",
    "    2: [0, -1],\n",
    "    3: [-1, 0],\n",
    "}"
   ]
  },
  {
   "cell_type": "code",
   "execution_count": 5,
   "id": "0b6bc302",
   "metadata": {},
   "outputs": [],
   "source": [
    "back_move_map = {\n",
    "    (0, 1): 0,\n",
    "    (1, 0): 1,\n",
    "    (0, -1): 2,\n",
    "    (-1, 0): 3,\n",
    "}"
   ]
  },
  {
   "cell_type": "code",
   "execution_count": 6,
   "id": "c9ac324e",
   "metadata": {},
   "outputs": [],
   "source": [
    "def go(move, direction, position):\n",
    "    for _ in range(move):\n",
    "        y, x = position[0]+direction[0], position[1]+direction[1]\n",
    "        if x == mapa.shape[1]:\n",
    "            x = 0\n",
    "        if x < 0:\n",
    "            x = mapa.shape[1] - 1\n",
    "        if y == mapa.shape[0]:\n",
    "            y = 0\n",
    "        if y < 0:\n",
    "            y = mapa.shape[0] - 1\n",
    "        next_symbol = mapa[y, x]\n",
    "        if next_symbol == ' ':\n",
    "            if direction == [0,1]:\n",
    "                line = list(mapa[position[0]])\n",
    "                first_dot = line.index('.') if '.' in line else 10000\n",
    "                first_sharp = line.index('#') if '#' in line else 10000\n",
    "                if first_dot < first_sharp:\n",
    "                    position = [position[0], first_dot]\n",
    "                else:\n",
    "                    break\n",
    "\n",
    "            elif direction == [1, 0]:\n",
    "                line = list(mapa[:, position[1]])\n",
    "                first_dot = line.index('.') if '.' in line else 10000\n",
    "                first_sharp = line.index('#') if '#' in line else 10000\n",
    "                if first_dot < first_sharp:\n",
    "                    position = [first_dot, position[1]]\n",
    "                else:\n",
    "                    break\n",
    "            \n",
    "            elif direction == [0, -1]:\n",
    "                line = list(mapa[position[0]][::-1])\n",
    "                first_dot = line.index('.') if '.' in line else 10000\n",
    "                first_sharp = line.index('#') if '#' in line else 10000\n",
    "                if first_dot < first_sharp:\n",
    "                    position = [position[0], mapa.shape[1] - 1 - first_dot]\n",
    "                else:\n",
    "                    break\n",
    "            elif direction == [-1, 0]:\n",
    "                line = list(mapa[:, position[1]][::-1])\n",
    "                first_dot = line.index('.') if '.' in line else 10000\n",
    "                first_sharp = line.index('#') if '#' in line else 10000\n",
    "                if first_dot < first_sharp:\n",
    "                    position = [mapa.shape[0] - 1 - first_dot, position[1]]\n",
    "                else:\n",
    "                    break        \n",
    "                \n",
    "        elif next_symbol == '#':\n",
    "            break\n",
    "        elif next_symbol == '.':\n",
    "            position = y, x\n",
    "        \n",
    "            \n",
    "    return position"
   ]
  },
  {
   "cell_type": "code",
   "execution_count": 7,
   "id": "3f0aaa8a",
   "metadata": {},
   "outputs": [],
   "source": [
    "y, x = first_y, first_x\n",
    "direction = 0\n",
    "move = ''\n",
    "for i, p in enumerate(plan):\n",
    "    if plan[i].isdigit():\n",
    "        move += p\n",
    "    else:\n",
    "        y, x = go(int(move), move_map[direction], (y, x))\n",
    "        move = ''\n",
    "        direction = (direction+dir_map[p]) % 4\n",
    "        continue\n",
    "y, x = go(int(move), move_map[direction], (y, x))\n",
    "x, y, = x+1, y+1"
   ]
  },
  {
   "cell_type": "code",
   "execution_count": 8,
   "id": "253592a6",
   "metadata": {},
   "outputs": [
    {
     "data": {
      "text/plain": [
       "117102"
      ]
     },
     "execution_count": 8,
     "metadata": {},
     "output_type": "execute_result"
    }
   ],
   "source": [
    "1000 * y + 4 * x + direction"
   ]
  },
  {
   "cell_type": "code",
   "execution_count": 9,
   "id": "ca94c847",
   "metadata": {},
   "outputs": [],
   "source": [
    "def go_2(move, direction, position):\n",
    "    for _ in range(move):\n",
    "        y, x = position[0]+direction[0], position[1]+direction[1]\n",
    "        if x == mapa.shape[1] or x < 0 or y == mapa.shape[0] or y < 0:\n",
    "            if x == mapa.shape[1]:\n",
    "                x = 99 # border of 2nd face\n",
    "                y = 149 - position[0]\n",
    "                new_direction = [0, -1]\n",
    "            elif x < 0:\n",
    "                if y < 150: # 4th face\n",
    "                    y = 149 - position[0]\n",
    "                    x = 50\n",
    "                    new_direction = [0, 1]\n",
    "                elif 199 >= y >= 150:\n",
    "                    x = position[0] - 100\n",
    "                    y = 0\n",
    "                    new_direction = [1, 0]\n",
    "            elif y == mapa.shape[0]:\n",
    "                x = position[1] + 100\n",
    "                y = 0\n",
    "                new_direction = direction \n",
    "            elif y < 0:\n",
    "                if 100 > x > 49:\n",
    "                    x = 0\n",
    "                    y = position[1] + 100\n",
    "                    new_direction = [0, 1]\n",
    "                elif 149 >= x >= 100:\n",
    "                    x = position[1] - 100\n",
    "                    y = 199\n",
    "                    new_direction = direction\n",
    "        else:\n",
    "            new_direction = direction\n",
    "            next_symbol = mapa[y, x]\n",
    "            if next_symbol == ' ':\n",
    "                if direction == [0,1]:\n",
    "                    if 50 <= y <= 99:\n",
    "                        y = 49\n",
    "                        x = position[0] + 50\n",
    "                        new_direction = [-1, 0]\n",
    "                    elif 100 <= y <= 149:\n",
    "                        x = 149\n",
    "                        y = 149 - position[0]\n",
    "                        new_direction = [0, -1]\n",
    "                    elif y > 149:\n",
    "                        x = position[0] - 100\n",
    "                        y = 149\n",
    "                        new_direction = [-1, 0]\n",
    "                elif direction == [1, 0]:\n",
    "                    if x > 99:\n",
    "                        x = 99\n",
    "                        y = position[1] - 50\n",
    "                        new_direction = [0, -1]\n",
    "                    elif x <= 99:\n",
    "                        x = 49\n",
    "                        y = position[1] + 100\n",
    "                        new_direction = [0, -1]\n",
    "                elif direction == [0, -1]:\n",
    "                    if y < 50:\n",
    "                        x = 0\n",
    "                        y = 149 - position[0]\n",
    "                        new_direction = [0, 1]\n",
    "                    elif y >= 50:\n",
    "                        x = position[0] - 50\n",
    "                        y = 100\n",
    "                        new_direction = [1, 0]\n",
    "                elif direction == [-1, 0]:\n",
    "                    x = 50\n",
    "                    y = position[1] + 50\n",
    "                    new_direction = [0, 1]\n",
    "                \n",
    "        next_symbol = mapa[y, x]\n",
    "        if next_symbol == '#':\n",
    "            break\n",
    "        elif next_symbol == '.':\n",
    "            position = y, x\n",
    "            direction = new_direction\n",
    "        \n",
    "            \n",
    "    return position, direction"
   ]
  },
  {
   "cell_type": "code",
   "execution_count": 10,
   "id": "edcda066",
   "metadata": {},
   "outputs": [],
   "source": [
    "y, x = first_y, first_x\n",
    "direction = 0\n",
    "move = ''\n",
    "for i, p in enumerate(plan):\n",
    "    if plan[i].isdigit():\n",
    "        move += p\n",
    "    else:\n",
    "        (y, x), new_direction = go_2(int(move), move_map[direction], (y, x)) \n",
    "        move = ''\n",
    "        direction = (back_move_map[tuple(new_direction)]+dir_map[p]) % 4\n",
    "        continue\n",
    "\n",
    "(y, x), _ = go_2(int(move), move_map[direction], (y, x))\n",
    "x, y, = x+1, y+1"
   ]
  },
  {
   "cell_type": "code",
   "execution_count": 11,
   "id": "b123df82",
   "metadata": {},
   "outputs": [
    {
     "data": {
      "text/plain": [
       "135297"
      ]
     },
     "execution_count": 11,
     "metadata": {},
     "output_type": "execute_result"
    }
   ],
   "source": [
    "1000 * y + 4 * x + direction"
   ]
  }
 ],
 "metadata": {
  "kernelspec": {
   "display_name": "Python 3 (ipykernel)",
   "language": "python",
   "name": "python3"
  },
  "language_info": {
   "codemirror_mode": {
    "name": "ipython",
    "version": 3
   },
   "file_extension": ".py",
   "mimetype": "text/x-python",
   "name": "python",
   "nbconvert_exporter": "python",
   "pygments_lexer": "ipython3",
   "version": "3.9.16"
  }
 },
 "nbformat": 4,
 "nbformat_minor": 5
}
