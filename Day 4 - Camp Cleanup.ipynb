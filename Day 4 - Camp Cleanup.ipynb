{
 "cells": [
  {
   "cell_type": "code",
   "execution_count": 1,
   "id": "94f3618b",
   "metadata": {},
   "outputs": [],
   "source": [
    "with open('tasks/4.txt', 'r') as f:\n",
    "    data = f.read().splitlines()"
   ]
  },
  {
   "cell_type": "code",
   "execution_count": 2,
   "id": "69a80e07",
   "metadata": {},
   "outputs": [
    {
     "name": "stdout",
     "output_type": "stream",
     "text": [
      "538\n",
      "792\n"
     ]
    }
   ],
   "source": [
    "full_intersection = 0\n",
    "part_intersection = 0\n",
    "for line in data:\n",
    "    first, second = line.split(',')\n",
    "    fs, ff = [int(x) for x in first.split('-')]\n",
    "    ss, sf = [int(x) for x in second.split('-')]\n",
    "    if (fs >= ss and ff <= sf) or (fs <= ss and ff >= sf):\n",
    "        full_intersection += 1\n",
    "    if (fs <= ss <= ff) or (ss <= fs <= sf):\n",
    "        part_intersection += 1\n",
    "print(full_intersection)\n",
    "print(part_intersection)"
   ]
  }
 ],
 "metadata": {
  "kernelspec": {
   "display_name": "Python 3 (ipykernel)",
   "language": "python",
   "name": "python3"
  },
  "language_info": {
   "codemirror_mode": {
    "name": "ipython",
    "version": 3
   },
   "file_extension": ".py",
   "mimetype": "text/x-python",
   "name": "python",
   "nbconvert_exporter": "python",
   "pygments_lexer": "ipython3",
   "version": "3.8.5"
  }
 },
 "nbformat": 4,
 "nbformat_minor": 5
}
