{
 "cells": [
  {
   "cell_type": "code",
   "execution_count": 1,
   "id": "8f01a012",
   "metadata": {},
   "outputs": [],
   "source": [
    "import numpy as np\n",
    "\n",
    "with open('tasks/18.txt', 'r') as f:\n",
    "    data = f.read().splitlines()"
   ]
  },
  {
   "cell_type": "code",
   "execution_count": 2,
   "id": "56fdeb08",
   "metadata": {},
   "outputs": [],
   "source": [
    "cubes = np.array([[int(y) for y in x.split(',')]for x in data])"
   ]
  },
  {
   "cell_type": "code",
   "execution_count": 3,
   "id": "ebe91d6a",
   "metadata": {},
   "outputs": [],
   "source": [
    "lavafall = np.zeros(np.max(cubes, axis=0)+4, dtype=int)"
   ]
  },
  {
   "cell_type": "code",
   "execution_count": 4,
   "id": "2347b12b",
   "metadata": {},
   "outputs": [],
   "source": [
    "x, y, z = lavafall.shape"
   ]
  },
  {
   "cell_type": "code",
   "execution_count": 5,
   "id": "a0650dc7",
   "metadata": {},
   "outputs": [],
   "source": [
    "for cube in cubes:\n",
    "    lavafall[cube[0]+1, cube[1]+1, cube[2]+1] = 1"
   ]
  },
  {
   "cell_type": "code",
   "execution_count": 6,
   "id": "29ab4e46",
   "metadata": {},
   "outputs": [],
   "source": [
    "mask_full_area = np.array([[\n",
    "    [0,0,0],\n",
    "    [0,1,0],\n",
    "    [0,0,0]],\n",
    "    \n",
    "    [[0,1,0],\n",
    "    [1,0,1],\n",
    "    [0,1,0]],\n",
    "    \n",
    "    [[0,0,0],\n",
    "    [0,1,0],\n",
    "    [0,0,0]],\n",
    "])"
   ]
  },
  {
   "cell_type": "code",
   "execution_count": 7,
   "id": "305c56df",
   "metadata": {},
   "outputs": [
    {
     "data": {
      "text/plain": [
       "array([[[0, 0, 0],\n",
       "        [0, 0, 0],\n",
       "        [0, 0, 0]],\n",
       "\n",
       "       [[0, 0, 0],\n",
       "        [0, 0, 0],\n",
       "        [0, 0, 0]],\n",
       "\n",
       "       [[0, 0, 0],\n",
       "        [0, 0, 0],\n",
       "        [0, 0, 0]]])"
      ]
     },
     "execution_count": 7,
     "metadata": {},
     "output_type": "execute_result"
    }
   ],
   "source": [
    "lavafall[2-1:2+2,2-1:2+2,2-1:2+2]"
   ]
  },
  {
   "cell_type": "code",
   "execution_count": 8,
   "id": "ae16079c",
   "metadata": {},
   "outputs": [],
   "source": [
    "total_sum = 0\n",
    "indexes = np.where(lavafall==1)\n",
    "for x_, y_, z_ in zip(*indexes):\n",
    "    total_sum += 6 - np.sum(\n",
    "        np.multiply(\n",
    "            mask_full_area,\n",
    "            lavafall[x_ - 1: x_ + 2, y_ - 1: y_ + 2, z_ - 1: z_ +2]\n",
    "        )\n",
    "    )"
   ]
  },
  {
   "cell_type": "code",
   "execution_count": 9,
   "id": "1b8f9f26",
   "metadata": {},
   "outputs": [
    {
     "data": {
      "text/plain": [
       "3432"
      ]
     },
     "execution_count": 9,
     "metadata": {},
     "output_type": "execute_result"
    }
   ],
   "source": [
    "total_sum"
   ]
  },
  {
   "cell_type": "code",
   "execution_count": 10,
   "id": "66566591",
   "metadata": {},
   "outputs": [],
   "source": [
    "visited = set()\n",
    "path_len = 0\n",
    "new_visited = {(0, 0, 0),}\n",
    "path_len += 1\n",
    "\n",
    "while new_visited != visited:\n",
    "    visited = new_visited.copy()\n",
    "    for v in visited:\n",
    "        for x_, y_, z_ in (\n",
    "            (v[0] - 1, v[1], v[2]),\n",
    "            (v[0] + 1, v[1], v[2]),\n",
    "            (v[0], v[1] - 1, v[2]),\n",
    "            (v[0], v[1] + 1, v[2]),\n",
    "            (v[0], v[1], v[2] - 1),\n",
    "            (v[0], v[1], v[2] + 1),\n",
    "        ):\n",
    "            if x_ < 0 or y_ < 0 or z_ < 0 or x_ >= lavafall.shape[0] or y_ >= lavafall.shape[1] or z_ >= lavafall.shape[2]:\n",
    "                continue\n",
    "            if ((x_, y_, z_) not in visited) and (lavafall[x_, y_, z_] == 0):\n",
    "                new_visited.add((x_, y_, z_))\n"
   ]
  },
  {
   "cell_type": "code",
   "execution_count": 11,
   "id": "5d0459e6",
   "metadata": {},
   "outputs": [],
   "source": [
    "total_sum_2 = 0\n",
    "indexes = list(np.where(lavafall[1:-1, 1:-1, 1:-1]==0))\n",
    "for i in range(3):\n",
    "    indexes[i] += 1\n",
    "for x_, y_, z_ in zip(*indexes):\n",
    "    if (x_, y_, z_) not in visited:\n",
    "        total_sum_2 += np.sum(\n",
    "            np.multiply(\n",
    "                mask_full_area,\n",
    "                lavafall[x_ - 1: x_ + 2, y_ - 1: y_ + 2, z_ - 1: z_ +2]\n",
    "            ))"
   ]
  },
  {
   "cell_type": "code",
   "execution_count": 12,
   "id": "7cd4580c",
   "metadata": {},
   "outputs": [
    {
     "data": {
      "text/plain": [
       "2042"
      ]
     },
     "execution_count": 12,
     "metadata": {},
     "output_type": "execute_result"
    }
   ],
   "source": [
    "total_sum - total_sum_2"
   ]
  }
 ],
 "metadata": {
  "kernelspec": {
   "display_name": "Python 3 (ipykernel)",
   "language": "python",
   "name": "python3"
  },
  "language_info": {
   "codemirror_mode": {
    "name": "ipython",
    "version": 3
   },
   "file_extension": ".py",
   "mimetype": "text/x-python",
   "name": "python",
   "nbconvert_exporter": "python",
   "pygments_lexer": "ipython3",
   "version": "3.9.16"
  }
 },
 "nbformat": 4,
 "nbformat_minor": 5
}
