{
 "cells": [
  {
   "cell_type": "code",
   "execution_count": 1,
   "id": "bdd27c4f",
   "metadata": {},
   "outputs": [],
   "source": [
    "with open('tasks/13.txt', 'r') as f:\n",
    "    data = f.read().split('\\n\\n')"
   ]
  },
  {
   "cell_type": "code",
   "execution_count": 2,
   "id": "3ed62880",
   "metadata": {},
   "outputs": [],
   "source": [
    "data = [[eval(y) for y in x.splitlines()] for x in data]"
   ]
  },
  {
   "cell_type": "code",
   "execution_count": 3,
   "id": "4c0b1182",
   "metadata": {},
   "outputs": [],
   "source": [
    "def compare(x_list, y_list):\n",
    "    if isinstance(x_list, list) and isinstance(y_list, list):\n",
    "        if not len(y_list) and len(x_list):\n",
    "            return 0\n",
    "        min_len = min(len(x_list), len(y_list))\n",
    "        i = None\n",
    "        for i in range(min_len):\n",
    "            is_ok = compare(x_list[i], y_list[i])\n",
    "            if is_ok:\n",
    "                return 1\n",
    "            if is_ok == 0:\n",
    "                return 0\n",
    "        if len(x_list) < len(y_list):\n",
    "            return 1\n",
    "        return None\n",
    "    \n",
    "    elif isinstance(x_list, int) and isinstance(y_list, int):\n",
    "        if x_list < y_list:\n",
    "            return 1\n",
    "        if x_list > y_list:\n",
    "            return 0\n",
    "    \n",
    "    elif isinstance(x_list, int) and isinstance(y_list, list):\n",
    "        x_list = [x_list]\n",
    "        return compare(x_list, y_list)\n",
    "    \n",
    "    elif isinstance(x_list, list) and isinstance(y_list, int):\n",
    "        y_list = [y_list]\n",
    "        return compare(x_list, y_list)"
   ]
  },
  {
   "cell_type": "code",
   "execution_count": 4,
   "id": "a01528db",
   "metadata": {},
   "outputs": [
    {
     "name": "stdout",
     "output_type": "stream",
     "text": [
      "5852\n"
     ]
    }
   ],
   "source": [
    "score = 0\n",
    "for i, pair in enumerate(data):\n",
    "    if compare(*pair):\n",
    "        score += i + 1\n",
    "print(score)"
   ]
  },
  {
   "cell_type": "code",
   "execution_count": 5,
   "id": "95b99547",
   "metadata": {},
   "outputs": [],
   "source": [
    "def bubbleSort(arr): # :)\n",
    "    n = len(arr)\n",
    "    swapped = False\n",
    "    for i in range(n-1):\n",
    "        for j in range(0, n-i-1):\n",
    "            if not compare(arr[j], arr[j + 1]):\n",
    "                swapped = True\n",
    "                arr[j], arr[j + 1] = arr[j + 1], arr[j]\n",
    "        if not swapped:\n",
    "            return"
   ]
  },
  {
   "cell_type": "code",
   "execution_count": 6,
   "id": "a1571465",
   "metadata": {},
   "outputs": [],
   "source": [
    "signals = []\n",
    "for p in data:\n",
    "    signals.extend(p)\n",
    "signals.extend([[[2]], [[6]]])"
   ]
  },
  {
   "cell_type": "code",
   "execution_count": 7,
   "id": "4f7bbc1a",
   "metadata": {},
   "outputs": [],
   "source": [
    "bubbleSort(signals)"
   ]
  },
  {
   "cell_type": "code",
   "execution_count": null,
   "id": "bfb7ff0e",
   "metadata": {},
   "outputs": [],
   "source": []
  },
  {
   "cell_type": "code",
   "execution_count": 8,
   "id": "364a56f4",
   "metadata": {},
   "outputs": [
    {
     "name": "stdout",
     "output_type": "stream",
     "text": [
      "24190\n"
     ]
    }
   ],
   "source": [
    "print((signals.index([[2]]) + 1) * (signals.index([[6]]) + 1))"
   ]
  }
 ],
 "metadata": {
  "kernelspec": {
   "display_name": "Python 3 (ipykernel)",
   "language": "python",
   "name": "python3"
  },
  "language_info": {
   "codemirror_mode": {
    "name": "ipython",
    "version": 3
   },
   "file_extension": ".py",
   "mimetype": "text/x-python",
   "name": "python",
   "nbconvert_exporter": "python",
   "pygments_lexer": "ipython3",
   "version": "3.8.5"
  }
 },
 "nbformat": 4,
 "nbformat_minor": 5
}
