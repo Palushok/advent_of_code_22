{
 "cells": [
  {
   "cell_type": "code",
   "execution_count": 41,
   "id": "54826150",
   "metadata": {},
   "outputs": [],
   "source": [
    "with open('tasks/1.txt', 'r') as f:\n",
    "    data = f.read().splitlines()"
   ]
  },
  {
   "cell_type": "code",
   "execution_count": 43,
   "id": "d00b1189",
   "metadata": {},
   "outputs": [],
   "source": [
    "elves = {}\n",
    "elv = 0\n",
    "elves[0] = 0\n",
    "for line in data:\n",
    "    if line:\n",
    "        elves[elv] += int(line)\n",
    "    else:\n",
    "        elv +=1 \n",
    "        elves[elv] = 0"
   ]
  },
  {
   "cell_type": "markdown",
   "id": "1e818035",
   "metadata": {},
   "source": [
    "### Part 1"
   ]
  },
  {
   "cell_type": "code",
   "execution_count": 39,
   "id": "73cb4b35",
   "metadata": {},
   "outputs": [
    {
     "data": {
      "text/plain": [
       "68923"
      ]
     },
     "execution_count": 39,
     "metadata": {},
     "output_type": "execute_result"
    }
   ],
   "source": [
    "max(elves.values())"
   ]
  },
  {
   "cell_type": "markdown",
   "id": "734e8473",
   "metadata": {},
   "source": [
    "### Part 2"
   ]
  },
  {
   "cell_type": "code",
   "execution_count": 40,
   "id": "22beade7",
   "metadata": {},
   "outputs": [
    {
     "data": {
      "text/plain": [
       "200044"
      ]
     },
     "execution_count": 40,
     "metadata": {},
     "output_type": "execute_result"
    }
   ],
   "source": [
    "sum(sorted(elves.values())[-3:])"
   ]
  }
 ],
 "metadata": {
  "kernelspec": {
   "display_name": "Python 3 (ipykernel)",
   "language": "python",
   "name": "python3"
  },
  "language_info": {
   "codemirror_mode": {
    "name": "ipython",
    "version": 3
   },
   "file_extension": ".py",
   "mimetype": "text/x-python",
   "name": "python",
   "nbconvert_exporter": "python",
   "pygments_lexer": "ipython3",
   "version": "3.8.5"
  }
 },
 "nbformat": 4,
 "nbformat_minor": 5
}
