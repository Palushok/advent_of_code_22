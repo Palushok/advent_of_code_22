{
 "cells": [
  {
   "cell_type": "code",
   "execution_count": 1,
   "id": "8a93cfa6",
   "metadata": {},
   "outputs": [],
   "source": [
    "from copy import deepcopy\n",
    "\n",
    "\n",
    "with open('tasks/21.txt', 'r') as file:\n",
    "    data = {x: y for x, y in [line.split(': ') for line in file.read().splitlines()]}\n",
    "    \n",
    "start_data = deepcopy(data)"
   ]
  },
  {
   "cell_type": "code",
   "execution_count": 2,
   "id": "bb9c9ef1",
   "metadata": {},
   "outputs": [],
   "source": [
    "# Part 1"
   ]
  },
  {
   "cell_type": "code",
   "execution_count": 3,
   "id": "beb1800e",
   "metadata": {},
   "outputs": [],
   "source": [
    "known_names = {}\n",
    "again = True\n",
    "while again: \n",
    "    temp_data = dict()\n",
    "    for left, right in data.items():\n",
    "        if right.isdigit():\n",
    "            known_names[left] = int(right)\n",
    "        else:\n",
    "            one, op, two = right.split()\n",
    "            if one in known_names and two in known_names:\n",
    "                known_names[left] = eval(f\"{known_names[one]} {op} {known_names[two]}\")\n",
    "                if left == 'root':\n",
    "                    again = False\n",
    "            else:\n",
    "                temp_data[left] = right\n",
    "    data = temp_data"
   ]
  },
  {
   "cell_type": "code",
   "execution_count": 4,
   "id": "9127deba",
   "metadata": {},
   "outputs": [
    {
     "data": {
      "text/plain": [
       "286698846151845"
      ]
     },
     "execution_count": 4,
     "metadata": {},
     "output_type": "execute_result"
    }
   ],
   "source": [
    "int(known_names['root'])"
   ]
  },
  {
   "cell_type": "code",
   "execution_count": 5,
   "id": "d7b17e36",
   "metadata": {},
   "outputs": [],
   "source": [
    "# Part 2"
   ]
  },
  {
   "cell_type": "code",
   "execution_count": 6,
   "id": "dfa3d516",
   "metadata": {},
   "outputs": [],
   "source": [
    "data = deepcopy(start_data)\n",
    "data['root'] = data['root'].replace('+', '==')\n",
    "start_data = deepcopy(data)"
   ]
  },
  {
   "cell_type": "code",
   "execution_count": 7,
   "id": "b7172a4a",
   "metadata": {},
   "outputs": [],
   "source": [
    "del(data['humn'])\n",
    "del(data['root'])"
   ]
  },
  {
   "cell_type": "code",
   "execution_count": 8,
   "id": "eb8c276d",
   "metadata": {},
   "outputs": [],
   "source": [
    "known_names = {}\n",
    "again = True\n",
    "i = 0 \n",
    "while again:\n",
    "    again = False\n",
    "    temp_data = dict()\n",
    "    for left, right in data.items():\n",
    "        if right.isdigit():\n",
    "            known_names[left] = int(right)\n",
    "            again = True\n",
    "        else:\n",
    "            one, op, two = right.split()\n",
    "            if one in known_names and two in known_names:\n",
    "                again = True\n",
    "                known_names[left] = eval(f\"{known_names[one]} {op} {known_names[two]}\")\n",
    "            else:\n",
    "                temp_data[left] = right\n",
    "    i+=1\n",
    "    data = temp_data"
   ]
  },
  {
   "cell_type": "code",
   "execution_count": 9,
   "id": "639ed65e",
   "metadata": {},
   "outputs": [],
   "source": [
    "one, two = start_data['root'].split(' == ')"
   ]
  },
  {
   "cell_type": "code",
   "execution_count": 10,
   "id": "8161f4e3",
   "metadata": {},
   "outputs": [],
   "source": [
    "name = one if one not in known_names else two\n",
    "second_name = one if one in known_names else two"
   ]
  },
  {
   "cell_type": "code",
   "execution_count": 11,
   "id": "e19e2936",
   "metadata": {},
   "outputs": [],
   "source": [
    "known_names[name] = known_names[second_name]"
   ]
  },
  {
   "cell_type": "code",
   "execution_count": 12,
   "id": "c87e6d5e",
   "metadata": {},
   "outputs": [],
   "source": [
    "opposite_op = {\n",
    "    '+': '-',\n",
    "    '-': '+',\n",
    "    '*': '/',\n",
    "    '/': '*'\n",
    "}"
   ]
  },
  {
   "cell_type": "code",
   "execution_count": 13,
   "id": "29b61efd",
   "metadata": {},
   "outputs": [],
   "source": [
    "while True:\n",
    "    one, op, two = data[name].split()\n",
    "    del(data[name])\n",
    "    if one not in known_names:\n",
    "        known_names[one] = eval(f'{known_names[name]} {opposite_op[op]} {known_names[two]}')\n",
    "        name = one\n",
    "    else:\n",
    "        if op == '*':\n",
    "            known_names[two] = eval(f'{known_names[name]} / {known_names[one]}')\n",
    "        elif op == '/':\n",
    "            known_names[two] = eval(f'{known_names[one]} / {known_names[name]}')\n",
    "        elif op == '-':\n",
    "            known_names[two] = eval(f'{known_names[one]} - {known_names[name]}')\n",
    "        elif op == '+':\n",
    "            known_names[two] = eval(f'{known_names[name]} - {known_names[one]}')\n",
    "        name = two\n",
    "    if 'humn'in (one, two):\n",
    "        break"
   ]
  },
  {
   "cell_type": "code",
   "execution_count": 14,
   "id": "623f5e55",
   "metadata": {},
   "outputs": [
    {
     "data": {
      "text/plain": [
       "3759566892641"
      ]
     },
     "execution_count": 14,
     "metadata": {},
     "output_type": "execute_result"
    }
   ],
   "source": [
    "int(known_names['humn'])"
   ]
  }
 ],
 "metadata": {
  "kernelspec": {
   "display_name": "Python 3 (ipykernel)",
   "language": "python",
   "name": "python3"
  },
  "language_info": {
   "codemirror_mode": {
    "name": "ipython",
    "version": 3
   },
   "file_extension": ".py",
   "mimetype": "text/x-python",
   "name": "python",
   "nbconvert_exporter": "python",
   "pygments_lexer": "ipython3",
   "version": "3.9.16"
  }
 },
 "nbformat": 4,
 "nbformat_minor": 5
}
