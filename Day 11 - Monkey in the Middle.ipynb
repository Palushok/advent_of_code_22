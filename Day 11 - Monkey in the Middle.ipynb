{
 "cells": [
  {
   "cell_type": "code",
   "execution_count": 27,
   "id": "a44e3883",
   "metadata": {},
   "outputs": [],
   "source": [
    "from copy import deepcopy\n",
    "with open('tasks/11.txt', 'r') as f:\n",
    "    data = f.read()"
   ]
  },
  {
   "cell_type": "code",
   "execution_count": 29,
   "id": "f4f8112f",
   "metadata": {},
   "outputs": [],
   "source": [
    "class Monkey():\n",
    "    def __init__(self, items, operation, devider, receivers):\n",
    "        self.items = items\n",
    "        self.operation = eval(f'lambda old: {operation}')\n",
    "        self.condition = lambda x: not (x % devider) \n",
    "        self.true_receiver, self.false_receiver = receivers\n",
    "        self.inspects = 0\n",
    "\n",
    "    def throw(self, part):\n",
    "#         print(f'___ I have a {self.items}')\n",
    "        results = []\n",
    "        for item in self.items:\n",
    "            if part == 1:\n",
    "                item = self.operation(item) // 3\n",
    "            else:\n",
    "                item = self.operation(item) % 9699690\n",
    "            if self.condition(item):\n",
    "                reciever = self.true_receiver\n",
    "            else:\n",
    "                reciever = self.false_receiver\n",
    "            self.inspects += 1\n",
    "            results.append((reciever, item))\n",
    "        self.items = []\n",
    "        return results\n",
    "        "
   ]
  },
  {
   "cell_type": "code",
   "execution_count": 30,
   "id": "76f7f3a5",
   "metadata": {},
   "outputs": [],
   "source": [
    "monkeys_data = [x.splitlines() for x in data.split('\\n\\n')]"
   ]
  },
  {
   "cell_type": "code",
   "execution_count": 31,
   "id": "1845ed0c",
   "metadata": {},
   "outputs": [],
   "source": [
    "monkeys = []\n",
    "for m_d in monkeys_data:\n",
    "    items = [int(x) for x in m_d[1].split(':')[1].split(',')]\n",
    "    operation =  m_d[2].split('=')[1]\n",
    "    condition = int(m_d[3].split()[-1])\n",
    "    receivers = [int(m_d[4].split()[-1]), int(m_d[5].split()[-1])]\n",
    "    monkeys.append(\n",
    "        Monkey(items, operation, condition, receivers)\n",
    "    )\n",
    "monkeys_2 = deepcopy(monkeys)"
   ]
  },
  {
   "cell_type": "code",
   "execution_count": 32,
   "id": "32612d52",
   "metadata": {},
   "outputs": [],
   "source": [
    "def play_round(monkeys, part):\n",
    "    for m in monkeys:\n",
    "        result_turn = m.throw(part)\n",
    "        for item in result_turn:\n",
    "            monkeys[item[0]].items.append(item[1])"
   ]
  },
  {
   "cell_type": "code",
   "execution_count": 33,
   "id": "927246db",
   "metadata": {},
   "outputs": [
    {
     "name": "stdout",
     "output_type": "stream",
     "text": [
      "56595\n"
     ]
    }
   ],
   "source": [
    "for _ in range(20):\n",
    "    play_round(monkeys, 1)\n",
    "a, b = sorted([m.inspects for m in monkeys])[-2:]\n",
    "print(a * b)"
   ]
  },
  {
   "cell_type": "code",
   "execution_count": 34,
   "id": "ffa597ba",
   "metadata": {},
   "outputs": [
    {
     "name": "stdout",
     "output_type": "stream",
     "text": [
      "15693274740\n"
     ]
    }
   ],
   "source": [
    "for _ in range(10000):\n",
    "    play_round(monkeys_2, 2)\n",
    "a, b = sorted([m.inspects for m in monkeys_2])[-2:]\n",
    "print(a * b)"
   ]
  },
  {
   "cell_type": "code",
   "execution_count": null,
   "id": "40320ef7",
   "metadata": {},
   "outputs": [],
   "source": []
  }
 ],
 "metadata": {
  "kernelspec": {
   "display_name": "Python 3 (ipykernel)",
   "language": "python",
   "name": "python3"
  },
  "language_info": {
   "codemirror_mode": {
    "name": "ipython",
    "version": 3
   },
   "file_extension": ".py",
   "mimetype": "text/x-python",
   "name": "python",
   "nbconvert_exporter": "python",
   "pygments_lexer": "ipython3",
   "version": "3.8.5"
  }
 },
 "nbformat": 4,
 "nbformat_minor": 5
}
