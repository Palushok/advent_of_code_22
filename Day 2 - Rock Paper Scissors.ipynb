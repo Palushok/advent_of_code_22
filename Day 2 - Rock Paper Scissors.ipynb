{
 "cells": [
  {
   "cell_type": "code",
   "execution_count": 67,
   "id": "15a37251",
   "metadata": {},
   "outputs": [],
   "source": [
    "with open('tasks/2.txt', 'r') as f:\n",
    "    data = f.read().splitlines()"
   ]
  },
  {
   "cell_type": "code",
   "execution_count": 68,
   "id": "1c622ce5",
   "metadata": {},
   "outputs": [],
   "source": [
    "score_for_shape = {\n",
    "    'X': 1,\n",
    "    'Y': 2,\n",
    "    'Z': 3,\n",
    "    'A': 1,\n",
    "    'B': 2,\n",
    "    'C': 3,\n",
    "}"
   ]
  },
  {
   "cell_type": "code",
   "execution_count": 69,
   "id": "60aa069c",
   "metadata": {},
   "outputs": [],
   "source": [
    "winners = {\n",
    "    'X': 'C',\n",
    "    'Y': 'A',\n",
    "    'Z': 'B',\n",
    "    'A': 'Z',\n",
    "    'B': 'X',\n",
    "    'C': 'Y',\n",
    "}\n",
    "\n",
    "losers = {\n",
    "    'X': 'B',\n",
    "    'Y': 'C',\n",
    "    'Z': 'A',\n",
    "    'A': 'Y',\n",
    "    'B': 'Z',\n",
    "    'C': 'X',\n",
    "}\n",
    "\n",
    "equals = {\n",
    "    'X': 'A',\n",
    "    'Y': 'B',\n",
    "    'Z': 'C'\n",
    "}"
   ]
  },
  {
   "cell_type": "code",
   "execution_count": 70,
   "id": "85c5b7a3",
   "metadata": {},
   "outputs": [],
   "source": [
    "def rps_round_1(first, second):\n",
    "    final_score = score_for_shape[second]\n",
    "    if first == equals[second]:\n",
    "        return 3 + final_score\n",
    "    if winners[second] == first:\n",
    "        return 6 + final_score\n",
    "    return final_score\n",
    "    "
   ]
  },
  {
   "cell_type": "code",
   "execution_count": 71,
   "id": "fb69da87",
   "metadata": {},
   "outputs": [],
   "source": [
    "def rps_round_2(first, second):\n",
    "    if second == 'X':\n",
    "        return score_for_shape[winners[first]]\n",
    "    if second == 'Y':\n",
    "        return 3 + score_for_shape[first]\n",
    "    return 6 + score_for_shape[losers[first]]\n",
    "    "
   ]
  },
  {
   "cell_type": "code",
   "execution_count": 72,
   "id": "eacb95d2",
   "metadata": {},
   "outputs": [
    {
     "name": "stdout",
     "output_type": "stream",
     "text": [
      "9651 10560\n"
     ]
    }
   ],
   "source": [
    "total_sum_1 = 0\n",
    "total_sum_2 = 0\n",
    "for line in data:\n",
    "    round_score_1 = rps_round_1(*line.split())\n",
    "    round_score_2 = rps_round_2(*line.split())\n",
    "    total_sum_1 += round_score_1\n",
    "    total_sum_2 += round_score_2\n",
    "print(total_sum_1, total_sum_2)"
   ]
  },
  {
   "cell_type": "code",
   "execution_count": 62,
   "id": "ed31a355",
   "metadata": {},
   "outputs": [
    {
     "data": {
      "text/plain": [
       "'B X'"
      ]
     },
     "execution_count": 62,
     "metadata": {},
     "output_type": "execute_result"
    }
   ],
   "source": [
    "data[1]"
   ]
  },
  {
   "cell_type": "code",
   "execution_count": null,
   "id": "65f63ccd",
   "metadata": {},
   "outputs": [],
   "source": []
  }
 ],
 "metadata": {
  "kernelspec": {
   "display_name": "Python 3 (ipykernel)",
   "language": "python",
   "name": "python3"
  },
  "language_info": {
   "codemirror_mode": {
    "name": "ipython",
    "version": 3
   },
   "file_extension": ".py",
   "mimetype": "text/x-python",
   "name": "python",
   "nbconvert_exporter": "python",
   "pygments_lexer": "ipython3",
   "version": "3.8.5"
  }
 },
 "nbformat": 4,
 "nbformat_minor": 5
}
