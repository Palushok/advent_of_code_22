{
 "cells": [
  {
   "cell_type": "code",
   "execution_count": 1,
   "id": "13e2b930",
   "metadata": {},
   "outputs": [],
   "source": [
    "with open('tasks/2.txt', 'r') as f:\n",
    "    data = f.read().splitlines()"
   ]
  },
  {
   "cell_type": "code",
   "execution_count": 2,
   "id": "7ab265b5",
   "metadata": {},
   "outputs": [],
   "source": [
    "score_for_shape = {\n",
    "    'X': 1,\n",
    "    'Y': 2,\n",
    "    'Z': 3,\n",
    "    'A': 1,\n",
    "    'B': 2,\n",
    "    'C': 3,\n",
    "}"
   ]
  },
  {
   "cell_type": "code",
   "execution_count": 3,
   "id": "2921fabc",
   "metadata": {},
   "outputs": [],
   "source": [
    "winners = {\n",
    "    'X': 'C',\n",
    "    'Y': 'A',\n",
    "    'Z': 'B',\n",
    "    'A': 'Z',\n",
    "    'B': 'X',\n",
    "    'C': 'Y',\n",
    "}\n",
    "\n",
    "losers = {\n",
    "    'X': 'B',\n",
    "    'Y': 'C',\n",
    "    'Z': 'A',\n",
    "    'A': 'Y',\n",
    "    'B': 'Z',\n",
    "    'C': 'X',\n",
    "}\n",
    "\n",
    "equals = {\n",
    "    'X': 'A',\n",
    "    'Y': 'B',\n",
    "    'Z': 'C'\n",
    "}"
   ]
  },
  {
   "cell_type": "code",
   "execution_count": 4,
   "id": "a7fb6f27",
   "metadata": {},
   "outputs": [],
   "source": [
    "def rps_round_1(first, second):\n",
    "    final_score = score_for_shape[second]\n",
    "    if first == equals[second]:\n",
    "        return 3 + final_score\n",
    "    if winners[second] == first:\n",
    "        return 6 + final_score\n",
    "    return final_score\n",
    "    "
   ]
  },
  {
   "cell_type": "code",
   "execution_count": 5,
   "id": "0f037ada",
   "metadata": {},
   "outputs": [],
   "source": [
    "def rps_round_2(first, second):\n",
    "    if second == 'X':\n",
    "        return score_for_shape[winners[first]]\n",
    "    if second == 'Y':\n",
    "        return 3 + score_for_shape[first]\n",
    "    return 6 + score_for_shape[losers[first]]\n",
    "    "
   ]
  },
  {
   "cell_type": "code",
   "execution_count": 6,
   "id": "ebb63d2a",
   "metadata": {},
   "outputs": [
    {
     "name": "stdout",
     "output_type": "stream",
     "text": [
      "9651 10560\n"
     ]
    }
   ],
   "source": [
    "total_sum_1 = 0\n",
    "total_sum_2 = 0\n",
    "for line in data:\n",
    "    round_score_1 = rps_round_1(*line.split())\n",
    "    round_score_2 = rps_round_2(*line.split())\n",
    "    total_sum_1 += round_score_1\n",
    "    total_sum_2 += round_score_2\n",
    "print(total_sum_1, total_sum_2)"
   ]
  }
 ],
 "metadata": {
  "kernelspec": {
   "display_name": "Python 3 (ipykernel)",
   "language": "python",
   "name": "python3"
  },
  "language_info": {
   "codemirror_mode": {
    "name": "ipython",
    "version": 3
   },
   "file_extension": ".py",
   "mimetype": "text/x-python",
   "name": "python",
   "nbconvert_exporter": "python",
   "pygments_lexer": "ipython3",
   "version": "3.8.5"
  }
 },
 "nbformat": 4,
 "nbformat_minor": 5
}
