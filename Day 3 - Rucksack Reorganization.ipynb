{
 "cells": [
  {
   "cell_type": "code",
   "execution_count": 1,
   "id": "c39ce6d1",
   "metadata": {},
   "outputs": [],
   "source": [
    "with open('tasks/3.txt', 'r') as f:\n",
    "    data = f.read().splitlines()"
   ]
  },
  {
   "cell_type": "code",
   "execution_count": 2,
   "id": "98aa4559",
   "metadata": {},
   "outputs": [],
   "source": [
    "def get_number(letter):\n",
    "    minus = 38 if letter.isupper() else 96\n",
    "    return ord(letter) - minus"
   ]
  },
  {
   "cell_type": "code",
   "execution_count": 3,
   "id": "bd13b3f5",
   "metadata": {},
   "outputs": [
    {
     "name": "stdout",
     "output_type": "stream",
     "text": [
      "8185\n"
     ]
    }
   ],
   "source": [
    "total_sum = 0\n",
    "for line in data:\n",
    "    cut = int(len(line)/2)\n",
    "    first = set(line[:cut])\n",
    "    second = set(line[cut:])\n",
    "    total_sum += get_number(first.intersection(second).pop())\n",
    "print(total_sum)"
   ]
  },
  {
   "cell_type": "code",
   "execution_count": 4,
   "id": "b2f3da58",
   "metadata": {},
   "outputs": [
    {
     "name": "stdout",
     "output_type": "stream",
     "text": [
      "2817\n"
     ]
    }
   ],
   "source": [
    "total_sum = 0\n",
    "for i in range(len(data)//3):\n",
    "    group = data[i*3: i*3+3]\n",
    "    group_id = set(group[0])\n",
    "    for elf in group[1:]:\n",
    "        group_id.intersection_update(set(elf))\n",
    "    total_sum += get_number(group_id.pop())\n",
    "print(total_sum)"
   ]
  }
 ],
 "metadata": {
  "kernelspec": {
   "display_name": "Python 3 (ipykernel)",
   "language": "python",
   "name": "python3"
  },
  "language_info": {
   "codemirror_mode": {
    "name": "ipython",
    "version": 3
   },
   "file_extension": ".py",
   "mimetype": "text/x-python",
   "name": "python",
   "nbconvert_exporter": "python",
   "pygments_lexer": "ipython3",
   "version": "3.8.5"
  }
 },
 "nbformat": 4,
 "nbformat_minor": 5
}
