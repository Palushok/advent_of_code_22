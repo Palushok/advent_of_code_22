{
 "cells": [
  {
   "cell_type": "code",
   "execution_count": 1,
   "id": "c9d44051",
   "metadata": {},
   "outputs": [],
   "source": [
    "import numpy as np\n",
    "\n",
    "with open('tasks/9.txt', 'r') as file:\n",
    "    data = file.read().splitlines()"
   ]
  },
  {
   "cell_type": "code",
   "execution_count": 2,
   "id": "3e4388ce",
   "metadata": {},
   "outputs": [],
   "source": [
    "tail_was = set()\n",
    "NUM_OF_NODES = 10 # 2 for first part\n",
    "rope = np.zeros([NUM_OF_NODES,2], dtype=int)"
   ]
  },
  {
   "cell_type": "code",
   "execution_count": 3,
   "id": "1b6c39b2",
   "metadata": {},
   "outputs": [],
   "source": [
    "side_to_move = {\n",
    "    'R': (0, 1),\n",
    "    'L': (0, -1),\n",
    "    'U': (1, 0),\n",
    "    'D': (-1, 0),\n",
    "}"
   ]
  },
  {
   "cell_type": "code",
   "execution_count": 4,
   "id": "a97251d1",
   "metadata": {},
   "outputs": [],
   "source": [
    "def move_h(side, h_pos):\n",
    "    return h_pos + side_to_move[side]"
   ]
  },
  {
   "cell_type": "code",
   "execution_count": 5,
   "id": "f8e5d3e9",
   "metadata": {},
   "outputs": [],
   "source": [
    "def move_t(h_pos, t_pos):\n",
    "    vec_distance = h_pos - t_pos\n",
    "    total_distance = np.linalg.norm(vec_distance)\n",
    "    if total_distance >= 2:\n",
    "        t_pos += np.sign(vec_distance)\n",
    "    return h_pos, t_pos"
   ]
  },
  {
   "cell_type": "code",
   "execution_count": 6,
   "id": "c65a65e9",
   "metadata": {},
   "outputs": [],
   "source": [
    "for line in data:\n",
    "    side, moves = line.split()\n",
    "    moves = int(moves)\n",
    "    for _ in range(moves):\n",
    "        rope[0] = move_h(side, rope[0])\n",
    "        for i in range(NUM_OF_NODES-1): # heads\n",
    "            rope[i], rope[i+1] = move_t(rope[i], rope[i+1])\n",
    "        tail_was.add((*rope[-1], ))"
   ]
  },
  {
   "cell_type": "code",
   "execution_count": 7,
   "id": "288cbe8f",
   "metadata": {},
   "outputs": [
    {
     "data": {
      "text/plain": [
       "2619"
      ]
     },
     "execution_count": 7,
     "metadata": {},
     "output_type": "execute_result"
    }
   ],
   "source": [
    "len(tail_was)"
   ]
  }
 ],
 "metadata": {
  "kernelspec": {
   "display_name": "Python 3 (ipykernel)",
   "language": "python",
   "name": "python3"
  },
  "language_info": {
   "codemirror_mode": {
    "name": "ipython",
    "version": 3
   },
   "file_extension": ".py",
   "mimetype": "text/x-python",
   "name": "python",
   "nbconvert_exporter": "python",
   "pygments_lexer": "ipython3",
   "version": "3.8.5"
  }
 },
 "nbformat": 4,
 "nbformat_minor": 5
}
