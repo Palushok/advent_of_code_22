{
 "cells": [
  {
   "cell_type": "code",
   "execution_count": 334,
   "id": "2b6227b3",
   "metadata": {},
   "outputs": [],
   "source": [
    "import numpy as np\n",
    "import matplotlib.pyplot as plt\n",
    "with open('tasks/9.txt', 'r') as file:\n",
    "    data = file.read().splitlines()"
   ]
  },
  {
   "cell_type": "code",
   "execution_count": 335,
   "id": "2a04ede9",
   "metadata": {},
   "outputs": [],
   "source": [
    "tail_was = np.zeros((1000,1000), bool)\n",
    "NUM_OF_NODES = 2\n",
    "rope = np.ones([NUM_OF_NODES,2], dtype=int)*500"
   ]
  },
  {
   "cell_type": "code",
   "execution_count": 337,
   "id": "e19e706d",
   "metadata": {},
   "outputs": [],
   "source": [
    "side_to_move = {\n",
    "    'R': (0, 1),\n",
    "    'L': (0, -1),\n",
    "    'U': (1, 0),\n",
    "    'D': (-1, 0),\n",
    "}"
   ]
  },
  {
   "cell_type": "code",
   "execution_count": 338,
   "id": "ce885eaa",
   "metadata": {},
   "outputs": [],
   "source": [
    "def move_h(side, h_pos):\n",
    "    return h_pos + side_to_move[side]"
   ]
  },
  {
   "cell_type": "code",
   "execution_count": 339,
   "id": "d77933d6",
   "metadata": {},
   "outputs": [],
   "source": [
    "def move_t(h_pos, t_pos):\n",
    "    vec_distance = h_pos - t_pos\n",
    "    total_distance = np.linalg.norm(vec_distance)\n",
    "    if total_distance >= 2:\n",
    "        t_pos += np.sign(vec_distance)\n",
    "    return h_pos, t_pos"
   ]
  },
  {
   "cell_type": "code",
   "execution_count": 340,
   "id": "67641ea4",
   "metadata": {},
   "outputs": [],
   "source": [
    "for line in data:\n",
    "    side, moves = line.split()\n",
    "    moves = int(moves)\n",
    "    for _ in range(moves):\n",
    "        rope[0] = move_h(side, rope[0])\n",
    "        for i in range(NUM_OF_NODES-1): # heads\n",
    "            rope[i], rope[i+1] = move_t(rope[i], rope[i+1])\n",
    "        tail_was[rope[-1][0], rope[-1][1]] = 1"
   ]
  },
  {
   "cell_type": "code",
   "execution_count": 341,
   "id": "1b0d8e3d",
   "metadata": {},
   "outputs": [
    {
     "data": {
      "text/plain": [
       "<matplotlib.image.AxesImage at 0x7f4ff277cdf0>"
      ]
     },
     "execution_count": 341,
     "metadata": {},
     "output_type": "execute_result"
    },
    {
     "data": {
      "image/png": "[encoded data removed]",
      "text/plain": [
       "<Figure size 432x288 with 1 Axes>"
      ]
     },
     "metadata": {
      "needs_background": "light"
     },
     "output_type": "display_data"
    }
   ],
   "source": [
    "plt.imshow(tail_was)"
   ]
  },
  {
   "cell_type": "code",
   "execution_count": 342,
   "id": "c69d747d",
   "metadata": {},
   "outputs": [
    {
     "data": {
      "text/plain": [
       "6018"
      ]
     },
     "execution_count": 342,
     "metadata": {},
     "output_type": "execute_result"
    }
   ],
   "source": [
    "np.sum(tail_was)"
   ]
  }
 ],
 "metadata": {
  "kernelspec": {
   "display_name": "Python 3 (ipykernel)",
   "language": "python",
   "name": "python3"
  },
  "language_info": {
   "codemirror_mode": {
    "name": "ipython",
    "version": 3
   },
   "file_extension": ".py",
   "mimetype": "text/x-python",
   "name": "python",
   "nbconvert_exporter": "python",
   "pygments_lexer": "ipython3",
   "version": "3.8.5"
  }
 },
 "nbformat": 4,
 "nbformat_minor": 5
}
