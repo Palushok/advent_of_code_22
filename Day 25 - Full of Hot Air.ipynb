{
 "cells": [
  {
   "cell_type": "code",
   "execution_count": 1,
   "id": "4a9a9d2f",
   "metadata": {},
   "outputs": [],
   "source": [
    "with open('tasks/25.txt', 'r') as f:\n",
    "    data = f.read().splitlines()"
   ]
  },
  {
   "cell_type": "code",
   "execution_count": 2,
   "id": "3e1788f0",
   "metadata": {},
   "outputs": [],
   "source": [
    "what_is_it = {\n",
    "    '2': 2,\n",
    "    '1': 1,\n",
    "    '0': 0,\n",
    "    '-': -1,\n",
    "    '=': -2,\n",
    "}"
   ]
  },
  {
   "cell_type": "code",
   "execution_count": 3,
   "id": "6322198b",
   "metadata": {},
   "outputs": [],
   "source": [
    "def two2ten(fs_number):\n",
    "    number = 0\n",
    "    for i, s in enumerate(fs_number):\n",
    "         number += 5**(len(fs_number)-i-1) * what_is_it[s]\n",
    "    return number"
   ]
  },
  {
   "cell_type": "code",
   "execution_count": 4,
   "id": "265e64c4",
   "metadata": {},
   "outputs": [
    {
     "data": {
      "text/plain": [
       "28115957264952"
      ]
     },
     "execution_count": 4,
     "metadata": {},
     "output_type": "execute_result"
    }
   ],
   "source": [
    "result = 0\n",
    "for line in data:\n",
    "    number = 0\n",
    "    for i, s in enumerate(line):\n",
    "         number += 5**(len(line)-i-1) * what_is_it[s]\n",
    "    result += number\n",
    "\n",
    "result"
   ]
  },
  {
   "cell_type": "code",
   "execution_count": 5,
   "id": "d714cc05",
   "metadata": {},
   "outputs": [
    {
     "data": {
      "text/plain": [
       "12141122440024434302"
      ]
     },
     "execution_count": 5,
     "metadata": {},
     "output_type": "execute_result"
    }
   ],
   "source": [
    "def ten2five(number):\n",
    "    digits = []\n",
    "    while number:\n",
    "        digits.append(int(number % 5))\n",
    "        number //= 5\n",
    "    return int(''.join([str(x) for x in digits[::-1]]))\n",
    "\n",
    "ten2five(result)"
   ]
  },
  {
   "cell_type": "code",
   "execution_count": 6,
   "id": "f01002cd",
   "metadata": {},
   "outputs": [],
   "source": [
    "# And next i translate it to SNAFU by hand :)"
   ]
  }
 ],
 "metadata": {
  "kernelspec": {
   "display_name": "Python 3 (ipykernel)",
   "language": "python",
   "name": "python3"
  },
  "language_info": {
   "codemirror_mode": {
    "name": "ipython",
    "version": 3
   },
   "file_extension": ".py",
   "mimetype": "text/x-python",
   "name": "python",
   "nbconvert_exporter": "python",
   "pygments_lexer": "ipython3",
   "version": "3.8.5"
  }
 },
 "nbformat": 4,
 "nbformat_minor": 5
}
