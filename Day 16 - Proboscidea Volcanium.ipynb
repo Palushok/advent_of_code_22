{
 "cells": [
  {
   "cell_type": "code",
   "execution_count": null,
   "id": "81d2b0be",
   "metadata": {},
   "outputs": [],
   "source": [
    "from time import time\n",
    "from copy import deepcopy\n",
    "\n",
    "with open('tasks/16.txt', 'r') as f:\n",
    "    data = f.read().splitlines()"
   ]
  },
  {
   "cell_type": "code",
   "execution_count": null,
   "id": "cbfbd2bb",
   "metadata": {},
   "outputs": [],
   "source": [
    "class Node:\n",
    "    def __init__(self, name, rate, children):\n",
    "        self.name = name\n",
    "        self.rate = rate\n",
    "        self.children = children\n",
    "    def __str__(self):\n",
    "        return f'Name: {self.name}, rate: {self.rate}, children: {[x.name for x in self.children]}'"
   ]
  },
  {
   "cell_type": "code",
   "execution_count": null,
   "id": "4f05266e",
   "metadata": {},
   "outputs": [],
   "source": [
    "rooms = {}\n",
    "for line in data:\n",
    "    room = line.split()[1]\n",
    "    rate = int(line.split('rate=')[1].split(';')[0])\n",
    "    if room not in rooms:\n",
    "        rooms[room] = Node(room, rate, set())\n",
    "    else:\n",
    "        rooms[room].rate = rate\n",
    "    children = line.split('valve')[-1]\n",
    "    if children.startswith('s'):  \n",
    "        children = children[2:]\n",
    "    else:\n",
    "        children = children[1:]\n",
    "    children = children.split(', ')\n",
    "    \n",
    "    for child in children:\n",
    "        if child not in rooms:\n",
    "            temp = Node(child, -1, set())\n",
    "            rooms[child] = temp\n",
    "        rooms[room].children.add(rooms[child])"
   ]
  },
  {
   "cell_type": "code",
   "execution_count": null,
   "id": "5bf224a1",
   "metadata": {},
   "outputs": [],
   "source": [
    "rooms_with_valves = [x for x in rooms if rooms[x].rate > 0]\n",
    "rooms_with_valves.append('AA')"
   ]
  },
  {
   "cell_type": "code",
   "execution_count": null,
   "id": "33c4bbed",
   "metadata": {},
   "outputs": [],
   "source": [
    "def find_path(node, visited, path_len):\n",
    "    for child in node.children:\n",
    "        if child.name not in visited:\n",
    "            len_dict[child.name] = min(len_dict[child.name], len_dict[node.name] + 1)\n",
    "    visited.append(node.name)\n",
    "    return path_len + 1"
   ]
  },
  {
   "cell_type": "code",
   "execution_count": null,
   "id": "044c2175",
   "metadata": {},
   "outputs": [],
   "source": [
    "room_to_rooms = {}\n",
    "for r in rooms_with_valves:\n",
    "    visited = []\n",
    "    path_len = 0\n",
    "    len_dict = {x: 100500 for x in rooms}\n",
    "    len_dict[r] = 0\n",
    "\n",
    "    not_empty = sorted([x for x in len_dict if x not in visited], key=lambda x: len_dict[x])\n",
    "    while not_empty:\n",
    "        path_len = find_path(rooms[not_empty[0]], visited, path_len)\n",
    "        not_empty = sorted([x for x in len_dict if x not in visited], key=lambda x: len_dict[x])\n",
    "    \n",
    "    temp_dict = {}\n",
    "    for k in len_dict:\n",
    "        if k in rooms_with_valves:\n",
    "            temp_dict[k] = len_dict[k]\n",
    "    room_to_rooms[r] = temp_dict.copy()"
   ]
  },
  {
   "cell_type": "code",
   "execution_count": 9,
   "id": "eaa0d1b0",
   "metadata": {},
   "outputs": [],
   "source": [
    "def find_max_value_pt_1(start, score, time, long_way, way_target):\n",
    "    prev_path = deepcopy(start)    \n",
    "    time -= long_way\n",
    "\n",
    "    if time <= 0:\n",
    "        return score\n",
    "    \n",
    "    rate = rooms[way_target].rate * (way_target not in prev_path)\n",
    "    prev_path.add(way_target)\n",
    "    score += time * rate\n",
    "    time -= 1\n",
    "\n",
    "    need_check = [(x, y) for x, y in room_to_rooms[way_target].items() if x not in prev_path]\n",
    "    all_new_pathes = 0\n",
    "    for t, w in need_check:\n",
    "        all_new_pathes = max(all_new_pathes, find_max_value_pt_1(prev_path, score, time, w, t))\n",
    "    return max(all_new_pathes, score)\n",
    "\n",
    "def find_max_value_pt2(start, score, time, long_way_1, long_way_2, way_target_1, way_target_2):\n",
    "    prev_path = deepcopy(start)\n",
    "    way = min(long_way_1, long_way_2)\n",
    "    time -= way\n",
    "    long_way_1 -= way\n",
    "    long_way_2 -= way\n",
    "    \n",
    "    if time <= 0:\n",
    "        return score\n",
    "\n",
    "    rate_1 = rate_2 = 0\n",
    "    if not long_way_1:\n",
    "        rate_1 = rooms[way_target_1].rate * (way_target_1 not in prev_path)\n",
    "        prev_path.add(way_target_1)\n",
    "    if not long_way_2:\n",
    "        rate_2 = rooms[way_target_2].rate * (way_target_2 not in prev_path)\n",
    "        prev_path.add(way_target_2)\n",
    "\n",
    "    score += time * rate_1 * (long_way_1 == 0)\n",
    "    score += time  * rate_2 *(long_way_2 == 0)\n",
    "        \n",
    "    time -= 1\n",
    "    long_way_1 -= 1\n",
    "    long_way_2 -= 1\n",
    "\n",
    "    need_check_1 = []\n",
    "    if long_way_1 < 0:\n",
    "        need_check_1 = [(x, y) for x, y in room_to_rooms[way_target_1].items() if x not in prev_path]\n",
    "    else:\n",
    "        need_check_1 = [(way_target_1, long_way_1)]\n",
    "    if long_way_2 < 0:\n",
    "        need_check_2 = [(x, y) for x, y in room_to_rooms[way_target_2].items() if x not in prev_path]\n",
    "    else:\n",
    "        need_check_2 = [(way_target_2, long_way_2)]\n",
    "    all_new_pathes = 0\n",
    "    for t_1, w_1 in need_check_1:\n",
    "        for t_2, w_2 in need_check_2:\n",
    "            all_new_pathes = max(all_new_pathes, find_max_value_pt2(prev_path, score, time, w_1, w_2, t_1, t_2))\n",
    "    return max(all_new_pathes, score)"
   ]
  },
  {
   "cell_type": "code",
   "execution_count": 11,
   "id": "2752fe55",
   "metadata": {},
   "outputs": [
    {
     "name": "stdout",
     "output_type": "stream",
     "text": [
      "2080\n",
      "11.28762674331665\n"
     ]
    }
   ],
   "source": [
    "start = time()\n",
    "print(find_max_value_pt_1({'AA'}, 0, 30, 0, 'AA'))\n",
    "print(time()-start)"
   ]
  },
  {
   "cell_type": "code",
   "execution_count": null,
   "id": "76647007",
   "metadata": {},
   "outputs": [],
   "source": [
    "start = time()\n",
    "part_2_ans = find_max_value_pt2({'AA'}, 0, 26, 0, 0, 'AA', 'AA')"
   ]
  },
  {
   "cell_type": "code",
   "execution_count": 18,
   "id": "29d8eb3e",
   "metadata": {},
   "outputs": [],
   "source": [
    "# Second part took about two days :)))\n",
    "# Optimization high lvl"
   ]
  },
  {
   "cell_type": "code",
   "execution_count": 17,
   "id": "15cee73b",
   "metadata": {},
   "outputs": [
    {
     "data": {
      "text/plain": [
       "2752"
      ]
     },
     "execution_count": 17,
     "metadata": {},
     "output_type": "execute_result"
    }
   ],
   "source": [
    "part_2_ans"
   ]
  }
 ],
 "metadata": {
  "kernelspec": {
   "display_name": "Python 3 (ipykernel)",
   "language": "python",
   "name": "python3"
  },
  "language_info": {
   "codemirror_mode": {
    "name": "ipython",
    "version": 3
   },
   "file_extension": ".py",
   "mimetype": "text/x-python",
   "name": "python",
   "nbconvert_exporter": "python",
   "pygments_lexer": "ipython3",
   "version": "3.8.5"
  }
 },
 "nbformat": 4,
 "nbformat_minor": 5
}
