{
 "cells": [
  {
   "cell_type": "code",
   "execution_count": 1,
   "id": "3da13cfe",
   "metadata": {},
   "outputs": [],
   "source": [
    "with open('tasks/10.txt', 'r') as f:\n",
    "    data = f.read().splitlines()"
   ]
  },
  {
   "cell_type": "code",
   "execution_count": 2,
   "id": "a74b7325",
   "metadata": {},
   "outputs": [],
   "source": [
    "def check_index(index, value, total):\n",
    "    index += 1\n",
    "    if not ((index-20) % 40):\n",
    "        return index, index*value + total\n",
    "    return index, total"
   ]
  },
  {
   "cell_type": "code",
   "execution_count": 3,
   "id": "b399addb",
   "metadata": {},
   "outputs": [],
   "source": [
    "def draw_pixel(line, index, value):\n",
    "    value = ((index-1)//40)*40 + value\n",
    "    if index-1 <= value+1 <= index+1:\n",
    "        line[index-1] = '#'"
   ]
  },
  {
   "cell_type": "code",
   "execution_count": 4,
   "id": "0e281dac",
   "metadata": {},
   "outputs": [],
   "source": [
    "index = 0\n",
    "total = 0\n",
    "value = 1\n",
    "line_str = ['.']*240\n",
    "\n",
    "for line in data:\n",
    "    draw_pixel(line_str, index+1, value)\n",
    "    index, total = check_index(index, value, total)\n",
    "    \n",
    "    \n",
    "    if line == 'noop':\n",
    "        continue\n",
    "    value_x = int(line.split()[-1])\n",
    "    draw_pixel(line_str, index+1, value)\n",
    "    index, total = check_index(index, value, total)\n",
    "    \n",
    "    value += value_x"
   ]
  },
  {
   "cell_type": "code",
   "execution_count": 5,
   "id": "67b41548",
   "metadata": {},
   "outputs": [
    {
     "data": {
      "text/plain": [
       "17840"
      ]
     },
     "execution_count": 5,
     "metadata": {},
     "output_type": "execute_result"
    }
   ],
   "source": [
    "total"
   ]
  },
  {
   "cell_type": "code",
   "execution_count": 6,
   "id": "70f4776d",
   "metadata": {},
   "outputs": [
    {
     "name": "stdout",
     "output_type": "stream",
     "text": [
      "####..##..#.....##..#..#.#....###...##..\n",
      "#....#..#.#....#..#.#..#.#....#..#.#..#.\n",
      "###..#..#.#....#....#..#.#....#..#.#....\n",
      "#....####.#....#.##.#..#.#....###..#.##.\n",
      "#....#..#.#....#..#.#..#.#....#....#..#.\n",
      "####.#..#.####..###..##..####.#.....###.\n"
     ]
    }
   ],
   "source": [
    "for i in range(6):\n",
    "    print(''.join(line_str[i*40:(i+1)*40]))"
   ]
  }
 ],
 "metadata": {
  "kernelspec": {
   "display_name": "Python 3 (ipykernel)",
   "language": "python",
   "name": "python3"
  },
  "language_info": {
   "codemirror_mode": {
    "name": "ipython",
    "version": 3
   },
   "file_extension": ".py",
   "mimetype": "text/x-python",
   "name": "python",
   "nbconvert_exporter": "python",
   "pygments_lexer": "ipython3",
   "version": "3.8.5"
  }
 },
 "nbformat": 4,
 "nbformat_minor": 5
}
