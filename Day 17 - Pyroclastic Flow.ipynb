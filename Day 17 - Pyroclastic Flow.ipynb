{
 "cells": [
  {
   "cell_type": "code",
   "execution_count": 1,
   "id": "d7326b10",
   "metadata": {},
   "outputs": [],
   "source": [
    "import numpy as np\n",
    "import matplotlib.pyplot as plt\n",
    "\n",
    "from copy import deepcopy\n",
    "\n",
    "with open('tasks/17.txt', 'r') as f:\n",
    "    data = f.read()"
   ]
  },
  {
   "cell_type": "code",
   "execution_count": 2,
   "id": "006fb290",
   "metadata": {},
   "outputs": [],
   "source": [
    "FIGURES = (\n",
    "    [[3, 2], [3, 3], [3, 4], [3, 5]],         # -\n",
    "    [[3, 3], [4, 2], [4, 3], [4, 4], [5, 3]], # +\n",
    "    [[3, 4], [4, 4], [3, 2], [3, 3], [5, 4]], # 7\n",
    "    [[3, 2], [4, 2], [5, 2], [6, 2]],         # |\n",
    "    [[3, 2], [3, 3], [4, 2], [4, 3]]          # []\n",
    ")\n"
   ]
  },
  {
   "cell_type": "code",
   "execution_count": 3,
   "id": "d0c7da3c",
   "metadata": {},
   "outputs": [],
   "source": [
    "def tower_height(field):\n",
    "    if not any(field[0]):\n",
    "        return 0\n",
    "    for i, x in enumerate(field):\n",
    "        if not any(x):\n",
    "            return i\n"
   ]
  },
  {
   "cell_type": "code",
   "execution_count": 4,
   "id": "aed9e54a",
   "metadata": {},
   "outputs": [],
   "source": [
    "def check_borders(figure):\n",
    "    return all(-1 < x[1] < 7 for x in figure)\n"
   ]
  },
  {
   "cell_type": "code",
   "execution_count": 5,
   "id": "a4c9d183",
   "metadata": {},
   "outputs": [],
   "source": [
    "def possible_move(figure, field):\n",
    "    a = not check_borders(figure)\n",
    "    if a:\n",
    "        return False\n",
    "    c = any([(-1 in (x, y)) for y, x in figure])\n",
    "    if c:\n",
    "        return False\n",
    "    b = any(field[y, x] for y, x in figure)\n",
    "    if b:\n",
    "        return False\n",
    "    return True\n"
   ]
  },
  {
   "cell_type": "code",
   "execution_count": 6,
   "id": "422be04c",
   "metadata": {},
   "outputs": [],
   "source": [
    "def draw_figure(figure, field):\n",
    "    for pixel in figure:\n",
    "        field[pixel[0], pixel[1]] = True\n",
    "    return field\n"
   ]
  },
  {
   "cell_type": "code",
   "execution_count": 7,
   "id": "b160c427",
   "metadata": {},
   "outputs": [],
   "source": [
    "def move_figure(figure, side):\n",
    "    figure = deepcopy(figure)\n",
    "    '''side: down, left, right'''\n",
    "    if side == 'down':\n",
    "        move = (-1, 0)\n",
    "    elif side == 'left':\n",
    "        move = (0, -1)\n",
    "    elif side == 'right':\n",
    "        move = (0, 1)\n",
    "    for i in range(len(figure)):\n",
    "        figure[i] = [figure[i][0]+ move[0], figure[i][1] + move[1]]\n",
    "    return figure\n",
    "    "
   ]
  },
  {
   "cell_type": "code",
   "execution_count": 8,
   "id": "95a6ac88",
   "metadata": {},
   "outputs": [],
   "source": [
    "def up_figure(figure, h):\n",
    "    for i in range(len(figure)):\n",
    "        figure[i] = [figure[i][0]+ h, figure[i][1]]\n",
    "    return figure"
   ]
  },
  {
   "cell_type": "code",
   "execution_count": 9,
   "id": "29d43973",
   "metadata": {},
   "outputs": [],
   "source": [
    "def get_figure(index):\n",
    "    return deepcopy(FIGURES[index % 5])"
   ]
  },
  {
   "cell_type": "code",
   "execution_count": 10,
   "id": "caafbc5d",
   "metadata": {},
   "outputs": [],
   "source": [
    "def create_tower(\n",
    "    max_steps,\n",
    "    init_height,\n",
    "    print_start_repeat_id=None,\n",
    "    print_last_repeat_id=None):\n",
    "    field = np.zeros((init_height, 7), bool)\n",
    "    index_wind = 0\n",
    "    for i in range(max_steps):\n",
    "        figure = up_figure(get_figure(i), tower_height(field))\n",
    "\n",
    "        while True:\n",
    "            side = data[index_wind % len(data)]\n",
    "            side = 'left' if side == '<' else 'right'\n",
    "            new_figure = move_figure(figure, side)\n",
    "            if possible_move(new_figure, field):\n",
    "                figure = deepcopy(new_figure)\n",
    "            index_wind +=1\n",
    "            new_figure = move_figure(figure, 'down')\n",
    "            if possible_move(new_figure, field):\n",
    "                figure = deepcopy(new_figure)\n",
    "            else:\n",
    "                break\n",
    "        draw_figure(figure, field)\n",
    "        height = tower_height(field)\n",
    "        if print_start_repeat_id == height:\n",
    "            print(f'start_repeating = {i}')\n",
    "        if print_last_repeat_id == height:\n",
    "            print(f'finish_repeating = {i}')\n",
    "    return field"
   ]
  },
  {
   "cell_type": "code",
   "execution_count": 11,
   "id": "b1b38cf5",
   "metadata": {},
   "outputs": [],
   "source": [
    "field = create_tower(2022, 8000)"
   ]
  },
  {
   "cell_type": "code",
   "execution_count": 12,
   "id": "c6e3a54d",
   "metadata": {},
   "outputs": [
    {
     "data": {
      "text/plain": [
       "3184"
      ]
     },
     "execution_count": 12,
     "metadata": {},
     "output_type": "execute_result"
    }
   ],
   "source": [
    "tower_height(field)"
   ]
  },
  {
   "cell_type": "code",
   "execution_count": 13,
   "id": "0be1bf42",
   "metadata": {},
   "outputs": [],
   "source": [
    "# Part 2"
   ]
  },
  {
   "cell_type": "code",
   "execution_count": 14,
   "id": "da53277b",
   "metadata": {},
   "outputs": [],
   "source": [
    "field = create_tower(10000, 100000)"
   ]
  },
  {
   "cell_type": "code",
   "execution_count": 15,
   "id": "bc0ba120",
   "metadata": {},
   "outputs": [],
   "source": [
    "last_100 = field[tower_height(field)-100:tower_height(field)]\n",
    "temp_arr = []\n",
    "for i in range(len(field)-100):\n",
    "    if np.array_equal(field[i:i+100], last_100):\n",
    "        temp_arr.append(i)\n"
   ]
  },
  {
   "cell_type": "code",
   "execution_count": 16,
   "id": "abe1f38d",
   "metadata": {},
   "outputs": [],
   "source": [
    "repeat_every = temp_arr[-1] - temp_arr[-2]"
   ]
  },
  {
   "cell_type": "code",
   "execution_count": 17,
   "id": "e3ef62e3",
   "metadata": {},
   "outputs": [
    {
     "name": "stdout",
     "output_type": "stream",
     "text": [
      "all fine\n"
     ]
    }
   ],
   "source": [
    "for i in range(tower_height(field)):\n",
    "    if np.array_equal(field[i:i+repeat_every], field[i+repeat_every:i+repeat_every*2]):\n",
    "        starts_with = i\n",
    "        print('all fine')\n",
    "        break"
   ]
  },
  {
   "cell_type": "code",
   "execution_count": 18,
   "id": "c6599272",
   "metadata": {},
   "outputs": [
    {
     "data": {
      "text/plain": [
       "(2752, 337)"
      ]
     },
     "execution_count": 18,
     "metadata": {},
     "output_type": "execute_result"
    }
   ],
   "source": [
    "repeat_every, starts_with # floors"
   ]
  },
  {
   "cell_type": "code",
   "execution_count": 19,
   "id": "d3021558",
   "metadata": {},
   "outputs": [
    {
     "name": "stdout",
     "output_type": "stream",
     "text": [
      "start_repeating = 213\n",
      "start_repeating = 214\n",
      "finish_repeating = 1958\n",
      "finish_repeating = 1959\n"
     ]
    }
   ],
   "source": [
    "field = create_tower(repeat_every+starts_with, 100000, starts_with, starts_with+repeat_every) #"
   ]
  },
  {
   "cell_type": "code",
   "execution_count": 20,
   "id": "5cbaaafe",
   "metadata": {},
   "outputs": [],
   "source": [
    "start_repeating = 214 # last from start_repeating, finish_repeating ^\n",
    "finish_repeating = 1959"
   ]
  },
  {
   "cell_type": "code",
   "execution_count": 21,
   "id": "74743c21",
   "metadata": {},
   "outputs": [
    {
     "data": {
      "text/plain": [
       "1745"
      ]
     },
     "execution_count": 21,
     "metadata": {},
     "output_type": "execute_result"
    }
   ],
   "source": [
    "repeat_every_N_steps = finish_repeating - start_repeating # finish_repeating - start_repeatin\n",
    "repeat_every_N_steps"
   ]
  },
  {
   "cell_type": "code",
   "execution_count": 22,
   "id": "7b0cc234",
   "metadata": {},
   "outputs": [
    {
     "data": {
      "text/plain": [
       "999999999786"
      ]
     },
     "execution_count": 22,
     "metadata": {},
     "output_type": "execute_result"
    }
   ],
   "source": [
    "steps_after_start_reapiting = 1_000_000_000_000 - start_repeating\n",
    "steps_after_start_reapiting"
   ]
  },
  {
   "cell_type": "code",
   "execution_count": 23,
   "id": "843c8916",
   "metadata": {},
   "outputs": [
    {
     "data": {
      "text/plain": [
       "796"
      ]
     },
     "execution_count": 23,
     "metadata": {},
     "output_type": "execute_result"
    }
   ],
   "source": [
    "final_steps = steps_after_start_reapiting % repeat_every_N_steps\n",
    "final_steps"
   ]
  },
  {
   "cell_type": "code",
   "execution_count": 24,
   "id": "f869bdaa",
   "metadata": {},
   "outputs": [
    {
     "data": {
      "text/plain": [
       "573065902"
      ]
     },
     "execution_count": 24,
     "metadata": {},
     "output_type": "execute_result"
    }
   ],
   "source": [
    "repeats = steps_after_start_reapiting // repeat_every_N_steps\n",
    "repeats"
   ]
  },
  {
   "cell_type": "code",
   "execution_count": 25,
   "id": "83e62b04",
   "metadata": {},
   "outputs": [
    {
     "data": {
      "text/plain": [
       "1010"
      ]
     },
     "execution_count": 25,
     "metadata": {},
     "output_type": "execute_result"
    }
   ],
   "source": [
    "mini_tower_h = start_repeating + final_steps # starts_repeatin + final_steps\n",
    "mini_tower_h"
   ]
  },
  {
   "cell_type": "code",
   "execution_count": 26,
   "id": "40c2bcc7",
   "metadata": {},
   "outputs": [],
   "source": [
    "field = create_tower(mini_tower_h, 2000) #"
   ]
  },
  {
   "cell_type": "code",
   "execution_count": 27,
   "id": "da920b1f",
   "metadata": {},
   "outputs": [
    {
     "data": {
      "text/plain": [
       "1611"
      ]
     },
     "execution_count": 27,
     "metadata": {},
     "output_type": "execute_result"
    }
   ],
   "source": [
    "tower_height(field)"
   ]
  },
  {
   "cell_type": "code",
   "execution_count": 28,
   "id": "02d51474",
   "metadata": {},
   "outputs": [
    {
     "data": {
      "text/plain": [
       "1274"
      ]
     },
     "execution_count": 28,
     "metadata": {},
     "output_type": "execute_result"
    }
   ],
   "source": [
    "added_height = tower_height(field) - starts_with\n",
    "added_height"
   ]
  },
  {
   "cell_type": "code",
   "execution_count": 29,
   "id": "eabd05cf",
   "metadata": {},
   "outputs": [
    {
     "data": {
      "text/plain": [
       "1577077363915"
      ]
     },
     "execution_count": 29,
     "metadata": {},
     "output_type": "execute_result"
    }
   ],
   "source": [
    "repeats * repeat_every + starts_with + added_height"
   ]
  }
 ],
 "metadata": {
  "kernelspec": {
   "display_name": "Python 3 (ipykernel)",
   "language": "python",
   "name": "python3"
  },
  "language_info": {
   "codemirror_mode": {
    "name": "ipython",
    "version": 3
   },
   "file_extension": ".py",
   "mimetype": "text/x-python",
   "name": "python",
   "nbconvert_exporter": "python",
   "pygments_lexer": "ipython3",
   "version": "3.9.16"
  }
 },
 "nbformat": 4,
 "nbformat_minor": 5
}
