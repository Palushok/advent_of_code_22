{
 "cells": [
  {
   "cell_type": "code",
   "execution_count": 1,
   "id": "274903b1",
   "metadata": {},
   "outputs": [],
   "source": [
    "import numpy as np\n",
    "\n",
    "with open('tasks/8.txt', 'r') as file:\n",
    "    data = file.read().splitlines()"
   ]
  },
  {
   "cell_type": "code",
   "execution_count": 2,
   "id": "e6da480f",
   "metadata": {},
   "outputs": [],
   "source": [
    "data = np.array([[int(x) for x in list(c)] for c in data])"
   ]
  },
  {
   "cell_type": "code",
   "execution_count": 3,
   "id": "4c43b1cf",
   "metadata": {},
   "outputs": [],
   "source": [
    "def count_visible_trees(data, i ,j):\n",
    "    data.shape[0]\n",
    "    tree = data[i, j]\n",
    "    multipliers = [0, 0, 0, 0]\n",
    "    visibility = [True, True, True, True]\n",
    "    for i_ in range(i-1, -1, -1):\n",
    "        multipliers[0] += 1\n",
    "        if data[i_, j] >= tree:\n",
    "            visibility[0] = False\n",
    "            break\n",
    "    for i_ in range(i+1, data.shape[0]):\n",
    "        multipliers[1] += 1\n",
    "        if data[i_, j] >= tree:\n",
    "            visibility[1] = False\n",
    "            break\n",
    "    for j_ in range(j-1, -1, -1):\n",
    "        multipliers[2] += 1\n",
    "        if data[i, j_] >= tree:\n",
    "            visibility[2] = False\n",
    "            break\n",
    "    for j_ in range(j+1, data.shape[0]):\n",
    "        multipliers[3] += 1\n",
    "        if data[i, j_] >= tree:\n",
    "            visibility[3] = False\n",
    "            break\n",
    "    return np.prod(multipliers), any(visibility)"
   ]
  },
  {
   "cell_type": "code",
   "execution_count": 4,
   "id": "9659da3e",
   "metadata": {},
   "outputs": [],
   "source": [
    "visible_trees = np.zeros_like(data)\n",
    "visible_trees_2 = np.zeros_like(data)\n",
    "for i in range(data.shape[0]):\n",
    "    for j in range(data.shape[1]):\n",
    "        multiplier, visibility = count_visible_trees(data, i,j)\n",
    "        visible_trees_2[i,j] = multiplier\n",
    "        visible_trees[i,j] = visibility"
   ]
  },
  {
   "cell_type": "code",
   "execution_count": 5,
   "id": "65475432",
   "metadata": {},
   "outputs": [
    {
     "data": {
      "text/plain": [
       "199272"
      ]
     },
     "execution_count": 5,
     "metadata": {},
     "output_type": "execute_result"
    }
   ],
   "source": [
    "# Part 1: Max 'rating' of tree\n",
    "np.max(visible_trees_2)"
   ]
  },
  {
   "cell_type": "code",
   "execution_count": 6,
   "id": "ea1b531e",
   "metadata": {},
   "outputs": [
    {
     "data": {
      "text/plain": [
       "1794"
      ]
     },
     "execution_count": 6,
     "metadata": {},
     "output_type": "execute_result"
    }
   ],
   "source": [
    "np.sum(visible_trees)"
   ]
  }
 ],
 "metadata": {
  "kernelspec": {
   "display_name": "Python 3 (ipykernel)",
   "language": "python",
   "name": "python3"
  },
  "language_info": {
   "codemirror_mode": {
    "name": "ipython",
    "version": 3
   },
   "file_extension": ".py",
   "mimetype": "text/x-python",
   "name": "python",
   "nbconvert_exporter": "python",
   "pygments_lexer": "ipython3",
   "version": "3.8.5"
  }
 },
 "nbformat": 4,
 "nbformat_minor": 5
}
