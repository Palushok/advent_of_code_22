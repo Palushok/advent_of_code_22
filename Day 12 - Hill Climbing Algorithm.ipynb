{
 "cells": [
  {
   "cell_type": "code",
   "execution_count": 1,
   "id": "1145db90",
   "metadata": {},
   "outputs": [],
   "source": [
    "import numpy as np\n",
    "import matplotlib.pyplot as plt\n",
    "\n",
    "with open('tasks/12.txt', 'r') as f:\n",
    "    data = f.read().splitlines()"
   ]
  },
  {
   "cell_type": "code",
   "execution_count": 2,
   "id": "dd0f188a",
   "metadata": {},
   "outputs": [],
   "source": [
    "heightmap = np.array([[ord(y) - 97 for y in list(x)] for x in data])"
   ]
  },
  {
   "cell_type": "code",
   "execution_count": 3,
   "id": "51118553",
   "metadata": {},
   "outputs": [],
   "source": [
    "y_start, x_start = np.where(heightmap==-14)\n",
    "y_start, x_start = int(y_start), int(x_start)\n",
    "\n",
    "y_finish, x_finish = np.where(heightmap==-28)\n",
    "y_finish, x_finish = int(y_finish), int(x_finish)\n",
    "\n",
    "heightmap[y_start, x_start] = -1\n",
    "heightmap[y_finish, x_finish] = 26"
   ]
  },
  {
   "cell_type": "code",
   "execution_count": 4,
   "id": "03d6d502",
   "metadata": {},
   "outputs": [
    {
     "data": {
      "text/plain": [
       "<matplotlib.image.AxesImage at 0x7fa280753310>"
      ]
     },
     "execution_count": 4,
     "metadata": {},
     "output_type": "execute_result"
    },
    {
     "data": {
      "image/png": "[encoded data removed]",
      "text/plain": [
       "<Figure size 432x288 with 1 Axes>"
      ]
     },
     "metadata": {
      "needs_background": "light"
     },
     "output_type": "display_data"
    }
   ],
   "source": [
    "plt.imshow(heightmap)"
   ]
  },
  {
   "cell_type": "code",
   "execution_count": 5,
   "id": "9d3e5709",
   "metadata": {},
   "outputs": [
    {
     "data": {
      "text/plain": [
       "272"
      ]
     },
     "execution_count": 5,
     "metadata": {},
     "output_type": "execute_result"
    }
   ],
   "source": [
    "# Part 1\n",
    "visited = {\n",
    "   (y_start, x_start): 0 \n",
    "}\n",
    "path_len = 0\n",
    "new_visited = visited.copy()\n",
    "path_len += 1\n",
    "\n",
    "while not visited.get((y_finish, x_finish)):\n",
    "    for v in visited:\n",
    "        old_hight = heightmap[v[0], v[1]]\n",
    "        for y_, x_ in ((v[0] - 1, v[1]),( v[0] + 1, v[1]), (v[0], v[1] - 1), (v[0], v[1] + 1)):\n",
    "            if x_ < 0 or y_ < 0 or x_ >= heightmap.shape[1] or y_ >= heightmap.shape[0]:\n",
    "                continue\n",
    "            location = visited.get((y_, x_))\n",
    "            new_hight = heightmap[(y_, x_)]\n",
    "            if (location is None) and (new_hight - old_hight <= 1):\n",
    "                new_visited[(y_, x_)] = path_len\n",
    "        visited = new_visited.copy()\n",
    "    path_len += 1\n",
    "\n",
    "pathes = []\n",
    "zero_coords = [tuple(x) for x in np.array(np.where(heightmap==0)).T]\n",
    "for k, v in visited.items():\n",
    "    pathes.append(k)\n",
    "\n",
    "for p in pathes[::-1]:\n",
    "    if p in zero_coords:\n",
    "        break\n",
    "visited.get((y_finish, x_finish)) - visited[p]"
   ]
  },
  {
   "cell_type": "code",
   "execution_count": 6,
   "id": "3a64b1cd",
   "metadata": {},
   "outputs": [
    {
     "data": {
      "text/plain": [
       "363"
      ]
     },
     "execution_count": 6,
     "metadata": {},
     "output_type": "execute_result"
    }
   ],
   "source": [
    "# Part 2\n",
    "visited = {\n",
    "   (y_finish, x_finish): 0 \n",
    "}\n",
    "path_len = 0\n",
    "new_visited = visited.copy()\n",
    "path_len += 1\n",
    "\n",
    "is_not_zero = True\n",
    "while is_not_zero:\n",
    "    for v in visited:\n",
    "        old_hight = heightmap[v[0], v[1]]\n",
    "        for y_, x_ in ((v[0] - 1, v[1]),( v[0] + 1, v[1]), (v[0], v[1] - 1), (v[0], v[1] + 1)):\n",
    "            if x_ < 0 or y_ < 0 or x_ >= heightmap.shape[1] or y_ >= heightmap.shape[0]:\n",
    "                continue\n",
    "            location = visited.get((y_, x_))\n",
    "            new_hight = heightmap[(y_, x_)]\n",
    "\n",
    "            if (location is None) and (new_hight -old_hight >= -1):\n",
    "                new_visited[(y_, x_)] = path_len\n",
    "                if new_hight == 0:\n",
    "                    is_not_zero = False\n",
    "        visited = new_visited.copy()\n",
    "    path_len += 1\n",
    "sorted(visited.values())[-1]"
   ]
  }
 ],
 "metadata": {
  "kernelspec": {
   "display_name": "Python 3 (ipykernel)",
   "language": "python",
   "name": "python3"
  },
  "language_info": {
   "codemirror_mode": {
    "name": "ipython",
    "version": 3
   },
   "file_extension": ".py",
   "mimetype": "text/x-python",
   "name": "python",
   "nbconvert_exporter": "python",
   "pygments_lexer": "ipython3",
   "version": "3.8.5"
  }
 },
 "nbformat": 4,
 "nbformat_minor": 5
}
