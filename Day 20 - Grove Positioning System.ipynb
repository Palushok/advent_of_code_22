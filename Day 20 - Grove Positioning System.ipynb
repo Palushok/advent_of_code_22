{
 "cells": [
  {
   "cell_type": "code",
   "execution_count": 1,
   "id": "957a826f",
   "metadata": {},
   "outputs": [],
   "source": [
    "with open('tasks/20.txt', 'r') as f:\n",
    "    data = [int(x) for x in f.read().splitlines()] # for train data\n",
    "#     data = [int(x) for x in f.read().split(', ')] # for test data"
   ]
  },
  {
   "cell_type": "code",
   "execution_count": 2,
   "id": "9ff745d3",
   "metadata": {},
   "outputs": [],
   "source": [
    "part = 2\n",
    "multiplier = 811589153 if part == 2 else 1\n",
    "times = 10 if part == 2 else 1"
   ]
  },
  {
   "cell_type": "code",
   "execution_count": 3,
   "id": "03f547fc",
   "metadata": {},
   "outputs": [],
   "source": [
    "data = [x*multiplier if x else 0 for x in data] # "
   ]
  },
  {
   "cell_type": "code",
   "execution_count": 4,
   "id": "a0c0d40e",
   "metadata": {},
   "outputs": [],
   "source": [
    "class Node:\n",
    "    def __init__(self, value, next_node, prev_node):\n",
    "        self.value = value\n",
    "        self.next_node = next_node\n",
    "        self.prev_node = prev_node\n"
   ]
  },
  {
   "cell_type": "code",
   "execution_count": 5,
   "id": "2937e598",
   "metadata": {},
   "outputs": [],
   "source": [
    "# Create circular list\n",
    "nodes = []\n",
    "for i, x in enumerate(data):\n",
    "    if i:\n",
    "        prev_node = nodes[i - 1]\n",
    "    else:\n",
    "        prev_node = None\n",
    "    nodes.append(Node(x, None, prev_node))\n",
    "for i, node in enumerate(nodes):\n",
    "    if i < len(nodes) - 1:\n",
    "        node.next_node = nodes[i+1]\n",
    "    else:\n",
    "        node.next_node = nodes[0]\n",
    "nodes[0].prev_node = nodes[-1]\n"
   ]
  },
  {
   "cell_type": "code",
   "execution_count": 6,
   "id": "5eefca30",
   "metadata": {},
   "outputs": [],
   "source": [
    "for i in range(times):\n",
    "    for node in nodes:\n",
    "        move_node = node.value % (len(data) -1)\n",
    "        if move_node > 0:\n",
    "            node.prev_node.next_node = node.next_node\n",
    "            node.next_node.prev_node = node.prev_node\n",
    "            temp_node = node\n",
    "            for _ in range(move_node):\n",
    "                temp_node = temp_node.next_node\n",
    "            was_next_node = temp_node.next_node\n",
    "            was_next_node.prev_node = node\n",
    "            temp_node.next_node = node\n",
    "            node.next_node = was_next_node\n",
    "            node.prev_node = temp_node\n"
   ]
  },
  {
   "cell_type": "code",
   "execution_count": 7,
   "id": "b9ec4846",
   "metadata": {},
   "outputs": [
    {
     "name": "stdout",
     "output_type": "stream",
     "text": [
      "912226207972\n"
     ]
    }
   ],
   "source": [
    "result = 0\n",
    "for n in nodes:\n",
    "    if n.value == 0:\n",
    "        break\n",
    "for _ in range(3):\n",
    "    for _ in range(1000 % (len(data))):\n",
    "        n = n.next_node\n",
    "    result += n.value\n",
    "\n",
    "print(result)"
   ]
  }
 ],
 "metadata": {
  "kernelspec": {
   "display_name": "Python 3 (ipykernel)",
   "language": "python",
   "name": "python3"
  },
  "language_info": {
   "codemirror_mode": {
    "name": "ipython",
    "version": 3
   },
   "file_extension": ".py",
   "mimetype": "text/x-python",
   "name": "python",
   "nbconvert_exporter": "python",
   "pygments_lexer": "ipython3",
   "version": "3.8.5"
  }
 },
 "nbformat": 4,
 "nbformat_minor": 5
}
