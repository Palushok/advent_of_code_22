{
 "cells": [
  {
   "cell_type": "code",
   "execution_count": 684,
   "id": "9da862e9",
   "metadata": {},
   "outputs": [],
   "source": [
    "import numpy as np\n",
    "import matplotlib.pyplot as plt\n",
    "\n",
    "with open('tasks/14.txt', 'r') as f:\n",
    "    data = f.read().split('\\n')"
   ]
  },
  {
   "cell_type": "code",
   "execution_count": 685,
   "id": "1ed4e723",
   "metadata": {},
   "outputs": [],
   "source": [
    "cave_h, cave_w = 250, 800\n",
    "cave = np.zeros((cave_h, cave_w), np.int8)\n",
    "\n",
    "max_y = 0\n",
    "for block in data:\n",
    "    lines = block.split('->')\n",
    "    start_x, start_y = [int(x) for x in lines[0].split(',')]\n",
    "    for i in range(len(lines)-1):\n",
    "        x, y = [int(x) for x in lines[i+1].split(',')]\n",
    "        if y > max_y:\n",
    "            max_y = y\n",
    "        cave[min(start_y, y):max(start_y, y)+1, min(start_x, x):max(start_x,x)+1] = 1\n",
    "        start_x, start_y = x, y\n",
    "\n",
    "max_y += 2\n",
    "cave[max_y] = 1\n",
    "start_sand_x, start_sand_y = 500, 0"
   ]
  },
  {
   "cell_type": "code",
   "execution_count": 686,
   "id": "7599438a",
   "metadata": {},
   "outputs": [],
   "source": [
    "def find_rest_point(y, x):\n",
    "    new_y = np.argmax(cave[y:cave_h, x])\n",
    "    if new_y:\n",
    "        y += new_y\n",
    "        if not cave[y, x-1]: # and cave[y, x+1]:\n",
    "            return find_rest_point(y, x-1)\n",
    "        elif not cave[y, x+1]:\n",
    "            return find_rest_point(y, x+1)\n",
    "        return y - 1, x\n",
    "    return False"
   ]
  },
  {
   "cell_type": "code",
   "execution_count": 681,
   "id": "30658083",
   "metadata": {},
   "outputs": [
    {
     "data": {
      "text/plain": [
       "<matplotlib.image.AxesImage at 0x12f036190>"
      ]
     },
     "execution_count": 681,
     "metadata": {},
     "output_type": "execute_result"
    },
    {
     "data": {
      "image/png": "[encoded data removed]",
      "text/plain": [
       "<Figure size 1080x1080 with 1 Axes>"
      ]
     },
     "metadata": {
      "needs_background": "light"
     },
     "output_type": "display_data"
    }
   ],
   "source": [
    "plt.figure(figsize=(15,15))\n",
    "plt.imshow(cave[:max_y+1, 300:700])"
   ]
  },
  {
   "cell_type": "code",
   "execution_count": 682,
   "id": "3f615389",
   "metadata": {},
   "outputs": [
    {
     "name": "stdout",
     "output_type": "stream",
     "text": [
      "first_part: 795\n",
      "second_part: 30214\n"
     ]
    }
   ],
   "source": [
    "first_part_finished = False\n",
    "sand = 0\n",
    "while True:\n",
    "    new_point = find_rest_point(start_sand_y, start_sand_x)\n",
    "    if new_point:\n",
    "        if not first_part_finished and (new_point[0] == max_y-1):\n",
    "            print(f'first_part: {sand}')\n",
    "            first_part_finished = True\n",
    "        cave[new_point] = 1\n",
    "        sand+=1\n",
    "        continue\n",
    "    break\n",
    "print(f'second_part: {sand}')"
   ]
  },
  {
   "cell_type": "code",
   "execution_count": null,
   "id": "ece48446",
   "metadata": {},
   "outputs": [],
   "source": []
  }
 ],
 "metadata": {
  "kernelspec": {
   "display_name": "Python 3 (ipykernel)",
   "language": "python",
   "name": "python3"
  },
  "language_info": {
   "codemirror_mode": {
    "name": "ipython",
    "version": 3
   },
   "file_extension": ".py",
   "mimetype": "text/x-python",
   "name": "python",
   "nbconvert_exporter": "python",
   "pygments_lexer": "ipython3",
   "version": "3.9.16"
  }
 },
 "nbformat": 4,
 "nbformat_minor": 5
}
