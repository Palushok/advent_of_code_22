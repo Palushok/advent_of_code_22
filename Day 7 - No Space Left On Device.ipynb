{
 "cells": [
  {
   "cell_type": "code",
   "execution_count": 1,
   "id": "8731dfa1",
   "metadata": {},
   "outputs": [],
   "source": [
    "from pathlib import Path"
   ]
  },
  {
   "cell_type": "code",
   "execution_count": 2,
   "id": "c2085532",
   "metadata": {},
   "outputs": [],
   "source": [
    "with open('tasks/7.txt', 'r') as file:\n",
    "    data = file.read().splitlines()"
   ]
  },
  {
   "cell_type": "code",
   "execution_count": 3,
   "id": "f25ce1de",
   "metadata": {},
   "outputs": [],
   "source": [
    "class Tree:\n",
    "    def __init__(self, name):\n",
    "        self.name = name\n",
    "        self.leaves = []\n",
    "        self.weight = 0\n",
    "    def count_weight(self):\n",
    "        if len(self.leaves):\n",
    "            return self.weight + sum([leaf.count_weight() for leaf in self.leaves])\n",
    "        else:\n",
    "            return self.weight"
   ]
  },
  {
   "cell_type": "code",
   "execution_count": 4,
   "id": "d6aa58e5",
   "metadata": {},
   "outputs": [],
   "source": [
    "def move(way, path_now):\n",
    "    if way == '..':\n",
    "        return '/'.join(path_now.split('/')[:-1])\n",
    "    if way == '/':\n",
    "        return way\n",
    "    return path_now + '/' + way"
   ]
  },
  {
   "cell_type": "code",
   "execution_count": 5,
   "id": "98c97935",
   "metadata": {},
   "outputs": [],
   "source": [
    "folders = {}"
   ]
  },
  {
   "cell_type": "code",
   "execution_count": 6,
   "id": "e3decf83",
   "metadata": {},
   "outputs": [],
   "source": [
    "path = ''\n",
    "for line in data:\n",
    "    parts = line.split()\n",
    "    if line.startswith('$ cd'):\n",
    "        path = move(parts[-1], path)\n",
    "        if path not in folders:\n",
    "            folders[path] = Tree(path)\n",
    "    elif line.startswith('$ ls'):\n",
    "        pass\n",
    "    elif line.startswith('dir'):\n",
    "        new_path = move(parts[1], path)\n",
    "        folders[new_path] = Tree(new_path)\n",
    "        folders[path].leaves.append(folders[new_path])\n",
    "    else:\n",
    "        folders[path].weight += int(parts[0])\n",
    "            "
   ]
  },
  {
   "cell_type": "code",
   "execution_count": 7,
   "id": "1683098d",
   "metadata": {},
   "outputs": [],
   "source": [
    "folder_with_weights = {}"
   ]
  },
  {
   "cell_type": "code",
   "execution_count": 8,
   "id": "edca796a",
   "metadata": {},
   "outputs": [],
   "source": [
    "for k, v in folders.items():\n",
    "    folder_with_weights[k] = v.count_weight()"
   ]
  },
  {
   "cell_type": "code",
   "execution_count": 9,
   "id": "a35e33ec",
   "metadata": {},
   "outputs": [
    {
     "data": {
      "text/plain": [
       "1644735"
      ]
     },
     "execution_count": 9,
     "metadata": {},
     "output_type": "execute_result"
    }
   ],
   "source": [
    "sum([x for x in folder_with_weights.values() if x < 100000])"
   ]
  },
  {
   "cell_type": "code",
   "execution_count": 10,
   "id": "d727b1a6",
   "metadata": {},
   "outputs": [],
   "source": [
    "free_now = 70000000 - max(folder_with_weights.values())\n",
    "need_to_clean = 30000000 - free_now"
   ]
  },
  {
   "cell_type": "code",
   "execution_count": 11,
   "id": "252a3f08",
   "metadata": {},
   "outputs": [
    {
     "data": {
      "text/plain": [
       "1300850"
      ]
     },
     "execution_count": 11,
     "metadata": {},
     "output_type": "execute_result"
    }
   ],
   "source": [
    "min([x for x in folder_with_weights.values() if x >= need_to_clean])"
   ]
  }
 ],
 "metadata": {
  "kernelspec": {
   "display_name": "Python 3 (ipykernel)",
   "language": "python",
   "name": "python3"
  },
  "language_info": {
   "codemirror_mode": {
    "name": "ipython",
    "version": 3
   },
   "file_extension": ".py",
   "mimetype": "text/x-python",
   "name": "python",
   "nbconvert_exporter": "python",
   "pygments_lexer": "ipython3",
   "version": "3.8.5"
  }
 },
 "nbformat": 4,
 "nbformat_minor": 5
}
