{
 "cells": [
  {
   "cell_type": "code",
   "execution_count": 1,
   "id": "acf940fe",
   "metadata": {},
   "outputs": [],
   "source": [
    "with open('tasks/7.txt', 'r') as file:\n",
    "    data = file.read().splitlines()"
   ]
  },
  {
   "cell_type": "code",
   "execution_count": 2,
   "id": "1a072243",
   "metadata": {},
   "outputs": [],
   "source": [
    "class Tree:\n",
    "    def __init__(self):\n",
    "        self.leaves = []\n",
    "        self.weight = 0\n",
    "    def count_weight(self):\n",
    "        return self.weight + sum([leaf.count_weight() for leaf in self.leaves])\n"
   ]
  },
  {
   "cell_type": "code",
   "execution_count": 3,
   "id": "276a52ec",
   "metadata": {},
   "outputs": [],
   "source": [
    "def move(way, path_now):\n",
    "    if way == '..':\n",
    "        return '/'.join(path_now.split('/')[:-1])\n",
    "    if way == '/':\n",
    "        return way\n",
    "    return path_now + '/' + way"
   ]
  },
  {
   "cell_type": "code",
   "execution_count": 4,
   "id": "0e6cbee2",
   "metadata": {},
   "outputs": [],
   "source": [
    "path = ''\n",
    "folders = {'/': Tree()}\n",
    "\n",
    "for line in data:\n",
    "    if line.startswith('$ ls'):\n",
    "        continue\n",
    "    parts = line.split()\n",
    "    if line.startswith('$ cd'):\n",
    "        path = move(parts[-1], path)\n",
    "    elif line.startswith('dir'):\n",
    "        new_path = move(parts[1], path)\n",
    "        folders[new_path] = Tree()\n",
    "        folders[path].leaves.append(folders[new_path])\n",
    "    else:\n",
    "        folders[path].weight += int(parts[0])"
   ]
  },
  {
   "cell_type": "code",
   "execution_count": 5,
   "id": "bcb0dea0",
   "metadata": {},
   "outputs": [],
   "source": [
    "folder_with_weights = {}\n",
    "for k, v in folders.items():\n",
    "    folder_with_weights[k] = v.count_weight()"
   ]
  },
  {
   "cell_type": "code",
   "execution_count": 6,
   "id": "69e67b13",
   "metadata": {},
   "outputs": [
    {
     "data": {
      "text/plain": [
       "1644735"
      ]
     },
     "execution_count": 6,
     "metadata": {},
     "output_type": "execute_result"
    }
   ],
   "source": [
    "# Part 1: all folders < 100_000\n",
    "sum([x for x in folder_with_weights.values() if x < 100_000])"
   ]
  },
  {
   "cell_type": "code",
   "execution_count": 7,
   "id": "33f21408",
   "metadata": {},
   "outputs": [],
   "source": [
    "free_now = 70_000_000 - max(folder_with_weights.values())\n",
    "need_to_clean = 30_000_000 - free_now"
   ]
  },
  {
   "cell_type": "code",
   "execution_count": 8,
   "id": "95fd72af",
   "metadata": {},
   "outputs": [
    {
     "data": {
      "text/plain": [
       "1300850"
      ]
     },
     "execution_count": 8,
     "metadata": {},
     "output_type": "execute_result"
    }
   ],
   "source": [
    "# Part 2: min folder to clean enough space\n",
    "min([x for x in folder_with_weights.values() if x >= need_to_clean])"
   ]
  }
 ],
 "metadata": {
  "kernelspec": {
   "display_name": "Python 3 (ipykernel)",
   "language": "python",
   "name": "python3"
  },
  "language_info": {
   "codemirror_mode": {
    "name": "ipython",
    "version": 3
   },
   "file_extension": ".py",
   "mimetype": "text/x-python",
   "name": "python",
   "nbconvert_exporter": "python",
   "pygments_lexer": "ipython3",
   "version": "3.8.5"
  }
 },
 "nbformat": 4,
 "nbformat_minor": 5
}
